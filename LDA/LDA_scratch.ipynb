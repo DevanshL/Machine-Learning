{
 "cells": [
  {
   "cell_type": "code",
   "execution_count": 1,
   "id": "46cc1f29",
   "metadata": {},
   "outputs": [],
   "source": [
    "import numpy as np\n",
    "import pandas as pd\n",
    "import matplotlib.pyplot as plt"
   ]
  },
  {
   "cell_type": "code",
   "execution_count": 2,
   "id": "dd0212d1",
   "metadata": {},
   "outputs": [
    {
     "data": {
      "text/html": [
       "<div>\n",
       "<style scoped>\n",
       "    .dataframe tbody tr th:only-of-type {\n",
       "        vertical-align: middle;\n",
       "    }\n",
       "\n",
       "    .dataframe tbody tr th {\n",
       "        vertical-align: top;\n",
       "    }\n",
       "\n",
       "    .dataframe thead th {\n",
       "        text-align: right;\n",
       "    }\n",
       "</style>\n",
       "<table border=\"1\" class=\"dataframe\">\n",
       "  <thead>\n",
       "    <tr style=\"text-align: right;\">\n",
       "      <th></th>\n",
       "      <th>Alcohol</th>\n",
       "      <th>Malic_Acid</th>\n",
       "      <th>Ash</th>\n",
       "      <th>Ash_Alcanity</th>\n",
       "      <th>Magnesium</th>\n",
       "      <th>Total_Phenols</th>\n",
       "      <th>Flavanoids</th>\n",
       "      <th>Nonflavanoid_Phenols</th>\n",
       "      <th>Proanthocyanins</th>\n",
       "      <th>Color_Intensity</th>\n",
       "      <th>Hue</th>\n",
       "      <th>OD280</th>\n",
       "      <th>Proline</th>\n",
       "      <th>Customer_Segment</th>\n",
       "    </tr>\n",
       "  </thead>\n",
       "  <tbody>\n",
       "    <tr>\n",
       "      <th>0</th>\n",
       "      <td>14.23</td>\n",
       "      <td>1.71</td>\n",
       "      <td>2.43</td>\n",
       "      <td>15.6</td>\n",
       "      <td>127</td>\n",
       "      <td>2.80</td>\n",
       "      <td>3.06</td>\n",
       "      <td>0.28</td>\n",
       "      <td>2.29</td>\n",
       "      <td>5.64</td>\n",
       "      <td>1.04</td>\n",
       "      <td>3.92</td>\n",
       "      <td>1065</td>\n",
       "      <td>1</td>\n",
       "    </tr>\n",
       "    <tr>\n",
       "      <th>1</th>\n",
       "      <td>13.20</td>\n",
       "      <td>1.78</td>\n",
       "      <td>2.14</td>\n",
       "      <td>11.2</td>\n",
       "      <td>100</td>\n",
       "      <td>2.65</td>\n",
       "      <td>2.76</td>\n",
       "      <td>0.26</td>\n",
       "      <td>1.28</td>\n",
       "      <td>4.38</td>\n",
       "      <td>1.05</td>\n",
       "      <td>3.40</td>\n",
       "      <td>1050</td>\n",
       "      <td>1</td>\n",
       "    </tr>\n",
       "    <tr>\n",
       "      <th>2</th>\n",
       "      <td>13.16</td>\n",
       "      <td>2.36</td>\n",
       "      <td>2.67</td>\n",
       "      <td>18.6</td>\n",
       "      <td>101</td>\n",
       "      <td>2.80</td>\n",
       "      <td>3.24</td>\n",
       "      <td>0.30</td>\n",
       "      <td>2.81</td>\n",
       "      <td>5.68</td>\n",
       "      <td>1.03</td>\n",
       "      <td>3.17</td>\n",
       "      <td>1185</td>\n",
       "      <td>1</td>\n",
       "    </tr>\n",
       "    <tr>\n",
       "      <th>3</th>\n",
       "      <td>14.37</td>\n",
       "      <td>1.95</td>\n",
       "      <td>2.50</td>\n",
       "      <td>16.8</td>\n",
       "      <td>113</td>\n",
       "      <td>3.85</td>\n",
       "      <td>3.49</td>\n",
       "      <td>0.24</td>\n",
       "      <td>2.18</td>\n",
       "      <td>7.80</td>\n",
       "      <td>0.86</td>\n",
       "      <td>3.45</td>\n",
       "      <td>1480</td>\n",
       "      <td>1</td>\n",
       "    </tr>\n",
       "    <tr>\n",
       "      <th>4</th>\n",
       "      <td>13.24</td>\n",
       "      <td>2.59</td>\n",
       "      <td>2.87</td>\n",
       "      <td>21.0</td>\n",
       "      <td>118</td>\n",
       "      <td>2.80</td>\n",
       "      <td>2.69</td>\n",
       "      <td>0.39</td>\n",
       "      <td>1.82</td>\n",
       "      <td>4.32</td>\n",
       "      <td>1.04</td>\n",
       "      <td>2.93</td>\n",
       "      <td>735</td>\n",
       "      <td>1</td>\n",
       "    </tr>\n",
       "  </tbody>\n",
       "</table>\n",
       "</div>"
      ],
      "text/plain": [
       "   Alcohol  Malic_Acid   Ash  Ash_Alcanity  Magnesium  Total_Phenols  \\\n",
       "0    14.23        1.71  2.43          15.6        127           2.80   \n",
       "1    13.20        1.78  2.14          11.2        100           2.65   \n",
       "2    13.16        2.36  2.67          18.6        101           2.80   \n",
       "3    14.37        1.95  2.50          16.8        113           3.85   \n",
       "4    13.24        2.59  2.87          21.0        118           2.80   \n",
       "\n",
       "   Flavanoids  Nonflavanoid_Phenols  Proanthocyanins  Color_Intensity   Hue  \\\n",
       "0        3.06                  0.28             2.29             5.64  1.04   \n",
       "1        2.76                  0.26             1.28             4.38  1.05   \n",
       "2        3.24                  0.30             2.81             5.68  1.03   \n",
       "3        3.49                  0.24             2.18             7.80  0.86   \n",
       "4        2.69                  0.39             1.82             4.32  1.04   \n",
       "\n",
       "   OD280  Proline  Customer_Segment  \n",
       "0   3.92     1065                 1  \n",
       "1   3.40     1050                 1  \n",
       "2   3.17     1185                 1  \n",
       "3   3.45     1480                 1  \n",
       "4   2.93      735                 1  "
      ]
     },
     "execution_count": 2,
     "metadata": {},
     "output_type": "execute_result"
    }
   ],
   "source": [
    "df = pd.read_csv('Wine.csv')\n",
    "df.head()"
   ]
  },
  {
   "cell_type": "code",
   "execution_count": 4,
   "id": "33a70701",
   "metadata": {},
   "outputs": [],
   "source": [
    "x = df.iloc[:,:-1].values\n",
    "y = df.iloc[:,-1].values"
   ]
  },
  {
   "cell_type": "code",
   "execution_count": 13,
   "id": "09efdd52",
   "metadata": {},
   "outputs": [
    {
     "name": "stdout",
     "output_type": "stream",
     "text": [
      "x_train shape: (142, 13)\n",
      "y_train shape: (142,)\n",
      "x_test shape: (36, 13)\n",
      "y_test shape: (36,)\n"
     ]
    }
   ],
   "source": [
    "np.random.seed(42)\n",
    "\n",
    "# Get the number of samples\n",
    "num_samples = len(x)\n",
    "\n",
    "# Shuffle indices\n",
    "indices = np.arange(num_samples)\n",
    "np.random.shuffle(indices)\n",
    "\n",
    "# Calculate the index to split the data into training and testing sets\n",
    "split_index = int(0.8 * num_samples)\n",
    "\n",
    "# Split the data\n",
    "x_train, x_test = x[indices[:split_index]], x[indices[split_index:]]\n",
    "y_train, y_test = y[indices[:split_index]], y[indices[split_index:]]\n",
    "\n",
    "# Checking the shapes of the training and testing sets\n",
    "print(\"x_train shape:\", x_train.shape)\n",
    "print(\"y_train shape:\", y_train.shape)\n",
    "print(\"x_test shape:\", x_test.shape)\n",
    "print(\"y_test shape:\", y_test.shape)"
   ]
  },
  {
   "cell_type": "code",
   "execution_count": 14,
   "id": "83bb2557",
   "metadata": {},
   "outputs": [
    {
     "name": "stdout",
     "output_type": "stream",
     "text": [
      "x_train_standardized shape: (142, 13)\n",
      "x_test_standardized shape: (36, 13)\n"
     ]
    }
   ],
   "source": [
    "mean_values = np.mean(x_train, axis=0)\n",
    "std_dev_values = np.std(x_train, axis=0)\n",
    "x_train_standardized = (x_train - mean_values) / std_dev_values\n",
    "x_test_standardized = (x_test - mean_values) / std_dev_values\n",
    "print(\"x_train_standardized shape:\", x_train_standardized.shape)\n",
    "print(\"x_test_standardized shape:\", x_test_standardized.shape)\n"
   ]
  },
  {
   "cell_type": "code",
   "execution_count": 15,
   "id": "9560a3dd",
   "metadata": {},
   "outputs": [
    {
     "data": {
      "text/plain": [
       "array([[ 0.76612803,  0.64398607,  0.71954557, ..., -0.02867826,\n",
       "         1.05379706,  0.30695404],\n",
       "       [ 1.46895477,  1.45791715,  0.28993602, ..., -0.42879635,\n",
       "         1.01087541,  1.0449264 ],\n",
       "       [-0.10932281,  0.39287968,  1.2207567 , ..., -0.87337201,\n",
       "        -0.44846073, -0.4624214 ],\n",
       "       ...,\n",
       "       [ 1.00040361, -0.68081664,  0.93435034, ...,  0.72710036,\n",
       "        -0.07647308,  1.20194179],\n",
       "       [ 0.58117363, -0.60288707, -0.42607989, ...,  0.06023687,\n",
       "         0.22397848, -0.86438081],\n",
       "       [ 0.18660423,  2.4536839 , -0.13967353, ..., -1.62915063,\n",
       "        -1.63595974, -0.06988291]])"
      ]
     },
     "execution_count": 15,
     "metadata": {},
     "output_type": "execute_result"
    }
   ],
   "source": [
    "x_train_standardized"
   ]
  },
  {
   "cell_type": "code",
   "execution_count": 16,
   "id": "2b706d9f",
   "metadata": {},
   "outputs": [
    {
     "data": {
      "text/plain": [
       "array([[-6.27195145e-01, -9.66558400e-01, -3.90279094e-01,\n",
       "        -6.12541506e-01, -1.03372885e+00, -4.75052253e-01,\n",
       "        -1.48002800e+00,  1.91414145e+00, -5.60603022e-01,\n",
       "         2.24844037e-01, -9.62287146e-01, -1.59303809e+00,\n",
       "        -3.05406001e-01],\n",
       "       [ 3.71558636e-01,  7.65209852e-01,  7.51312468e-02,\n",
       "         6.54478069e-01, -5.52677128e-01, -5.91358149e-01,\n",
       "        -1.29393239e+00,  6.97816484e-01, -5.60603022e-01,\n",
       "         1.55015114e+00, -1.85143846e+00, -1.43565870e+00,\n",
       "        -3.05406001e-01],\n",
       "       [-7.23319335e-02,  9.47045518e-01, -3.22711396e-02,\n",
       "        -2.95786612e-01,  4.09426313e-01, -1.48857506e+00,\n",
       "        -1.35596426e+00,  2.92374828e-01, -1.08801796e+00,\n",
       "         1.48984708e-01, -1.27349011e+00, -1.24966488e+00,\n",
       "        -2.26898304e-01],\n",
       "       [-7.99819256e-01, -1.06180565e+00, -7.12486253e-01,\n",
       "        -1.37409165e-01, -8.96285499e-01,  2.01721696e+00,\n",
       "         1.12531054e+00, -1.41048013e+00,  4.94226857e-01,\n",
       "        -2.21387309e-01,  1.12721845e+00,  3.52743429e-01,\n",
       "        -1.02767682e+00],\n",
       "       [ 8.89430967e-01, -5.94228226e-01, -3.90279094e-01,\n",
       "        -9.60971889e-01,  1.23408641e+00,  5.21855431e-01,\n",
       "         9.18537643e-01, -1.24830346e+00,  6.88922286e-02,\n",
       "         4.03336576e-01, -2.06508525e-01,  8.24881592e-01,\n",
       "         9.82120240e-01],\n",
       "       [-3.68258980e-01, -5.24957496e-01, -2.82876708e-01,\n",
       "         9.71232963e-01, -1.10245052e+00, -1.50519019e+00,\n",
       "        -2.60067887e-01,  9.41081477e-01,  8.59056137e-02,\n",
       "        -7.34553357e-01, -3.84338788e-01, -2.91081339e-01,\n",
       "        -8.14135882e-01],\n",
       "       [ 3.86407088e-02, -5.42275178e-01, -1.14209580e+00,\n",
       "        -2.22799146e+00, -5.52677128e-01,  7.21236967e-01,\n",
       "         1.30106751e+00, -1.57265679e+00,  2.26361891e+00,\n",
       "         1.00574889e+00,  6.82642794e-01,  4.09972297e-01,\n",
       "         1.26474795e+00],\n",
       "       [ 3.09907168e-01,  1.66572934e+00, -3.54478299e-01,\n",
       "         1.79345729e-01,  1.37152975e+00, -1.15627250e+00,\n",
       "        -1.36630290e+00,  5.35639821e-01, -3.90469170e-01,\n",
       "         2.34444293e+00, -1.67360820e+00, -1.52150201e+00,\n",
       "         2.75550961e-01],\n",
       "       [ 8.64770380e-01, -8.02040416e-01,  5.04740792e-01,\n",
       "        -8.65945421e-01,  5.46869662e-01,  1.85106568e+00,\n",
       "         1.71461331e+00, -1.41048013e+00,  7.83454404e-01,\n",
       "         8.27256354e-01, -3.39881222e-01,  3.52743429e-01,\n",
       "         1.68868952e+00],\n",
       "       [ 1.33332154e+00, -2.91168782e-01,  1.46732838e-01,\n",
       "        -2.00760144e-01,  2.03261290e-01,  7.71082352e-01,\n",
       "         9.39214933e-01, -3.56331821e-01,  1.36190950e+00,\n",
       "         5.59517547e-01,  4.60354965e-01,  1.81056824e-01,\n",
       "         9.82120240e-01],\n",
       "       [-1.69993069e+00, -2.56533417e-01,  3.61537610e-01,\n",
       "         6.86153558e-01, -1.10245052e+00, -5.58127893e-01,\n",
       "        -3.32438402e-01,  9.41081477e-01, -3.90469170e-01,\n",
       "        -9.57669030e-01,  1.49152003e-01,  1.81056824e-01,\n",
       "        -2.11196764e-01],\n",
       "       [-1.09322814e-01,  1.25010496e+00,  1.04175272e+00,\n",
       "        -2.64111123e-01,  1.34539616e-01,  2.06167997e-01,\n",
       "         4.11944038e-01, -9.23950140e-01,  6.81374094e-01,\n",
       "        -1.99075742e-01,  2.82524701e-01,  1.28271254e+00,\n",
       "         7.14309474e-02],\n",
       "       [ 3.34567755e-01, -3.34462988e-01,  1.14915511e+00,\n",
       "        -8.34269931e-01,  1.34539616e-01,  1.18646055e+00,\n",
       "         1.25971293e+00, -4.37420153e-01,  1.36945769e-01,\n",
       "         4.70271277e-01,  4.60354965e-01,  3.09821778e-01,\n",
       "         1.64158490e+00],\n",
       "       [ 1.40730330e+00,  1.33114440e-01,  4.33139201e-01,\n",
       "         1.79345729e-01, -6.21398802e-01, -1.00673635e+00,\n",
       "        -1.35596426e+00,  6.16728152e-01, -5.77616407e-01,\n",
       "         2.12132726e+00, -1.54023550e+00, -1.30689375e+00,\n",
       "        -2.74002922e-01],\n",
       "       [-1.20671894e+00,  1.68304702e+00,  7.51312468e-02,\n",
       "         8.12855516e-01, -1.37733722e+00, -3.08900972e-01,\n",
       "        -2.70406532e-01,  4.54551490e-01, -3.90469170e-01,\n",
       "        -1.04691530e+00, -7.84456882e-01, -7.64730827e-02,\n",
       "        -5.25227555e-01],\n",
       "       [ 3.86407088e-02, -6.11545908e-01,  6.83744770e-01,\n",
       "        -4.54164059e-01, -1.40347081e-01,  2.72628510e-01,\n",
       "         4.32621328e-01, -5.99596815e-01, -2.37348704e-01,\n",
       "        -3.10633578e-01,  6.82642794e-01, -1.62316385e-01,\n",
       "         1.12343410e+00],\n",
       "       [-7.01176907e-01,  5.83374185e-01,  1.00595193e+00,\n",
       "         2.39662998e+00, -2.09068756e-01, -6.41203534e-01,\n",
       "        -1.48002800e+00,  2.15740644e+00, -7.47750258e-01,\n",
       "         1.13961830e+00, -1.31794767e+00, -1.27827932e+00,\n",
       "         4.16864817e-01],\n",
       "       [ 6.92146269e-01,  1.93726329e-01,  1.18495591e+00,\n",
       "         1.60474275e+00,  3.40704639e-01, -1.22273302e+00,\n",
       "        -1.21122323e+00,  2.11286497e-01, -6.72148526e-02,\n",
       "         1.65724666e+00, -1.00674471e+00, -1.17812880e+00,\n",
       "         8.62478932e-03],\n",
       "       [ 2.23595113e-01, -4.98980972e-01, -7.84087844e-01,\n",
       "        -2.60809734e+00, -2.90373272e-03,  6.04931071e-01,\n",
       "         7.73796613e-01, -8.42861808e-01, -5.09562866e-01,\n",
       "        -2.52623503e-01,  3.71439833e-01,  1.11102593e+00,\n",
       "         9.50717161e-01],\n",
       "       [ 9.88073315e-01, -5.24957496e-01,  2.18334429e-01,\n",
       "        -1.72118363e+00,  7.53034685e-01,  2.64859182e+00,\n",
       "         1.78698382e+00, -3.56331821e-01,  4.94226857e-01,\n",
       "         9.38814191e-01,  1.93609569e-01,  9.10724894e-01,\n",
       "         1.39036027e+00],\n",
       "       [ 7.56315896e-02,  1.33669337e+00,  3.52965589e-03,\n",
       "         6.54478069e-01,  8.90478034e-01, -1.45534481e+00,\n",
       "        -6.42597752e-01, -1.94155159e-01, -7.47750258e-01,\n",
       "         1.98745785e+00, -1.76252333e+00, -1.85056800e+00,\n",
       "        -6.19436792e-01],\n",
       "       [-1.95634869e-01, -8.71311146e-01, -1.39673526e-01,\n",
       "        -4.54164059e-01,  1.50897310e+00, -1.28919353e+00,\n",
       "        -7.87338782e-01, -1.24830346e+00, -1.08801796e+00,\n",
       "        -3.77568280e-01, -9.17829580e-01, -1.90779687e+00,\n",
       "        -3.68212159e-01],\n",
       "       [-2.81946925e-01,  2.71655900e-01,  4.33139201e-01,\n",
       "         8.12855516e-01,  8.21756360e-01, -1.33903891e+00,\n",
       "        -6.73613687e-01, -1.00503847e+00, -5.43589636e-01,\n",
       "         2.61218174e+00, -2.16264143e+00, -1.65026696e+00,\n",
       "        -8.39258345e-01],\n",
       "       [-1.47798540e+00, -5.50934019e-01, -1.71490853e+00,\n",
       "         2.09682817e-02, -9.65007174e-01,  3.55704150e-01,\n",
       "        -3.84131627e-01,  4.91098344e-02, -2.71375474e-01,\n",
       "        -1.28788023e+00, -1.17593393e-01, -2.62466905e-01,\n",
       "        -1.04337836e+00],\n",
       "       [-8.98461604e-01,  7.04597963e-01, -5.33482276e-01,\n",
       "        -4.54164059e-01, -8.27563825e-01,  9.37233632e-01,\n",
       "         1.01158545e+00,  6.97816484e-01,  2.09348506e+00,\n",
       "        -1.18078470e+00,  2.01636977e+00,  2.95514561e-01,\n",
       "        -1.07164113e+00],\n",
       "       [-1.47798540e+00, -7.67405051e-01, -1.32109978e+00,\n",
       "         4.32749643e-01, -9.65007174e-01, -5.08282509e-01,\n",
       "        -4.25486207e-01, -5.18508484e-01, -8.42282377e-02,\n",
       "        -1.33696567e+00, -7.31358268e-02,  1.01087541e+00,\n",
       "        -7.92153726e-01],\n",
       "       [-1.68760039e+00, -5.94228226e-01,  9.34350338e-01,\n",
       "         2.07987509e+00, -8.27563825e-01, -6.07973277e-01,\n",
       "        -4.15147562e-01,  2.92374828e-01, -4.07482555e-01,\n",
       "        -1.04691530e+00,  1.74962438e+00,  8.39188809e-01,\n",
       "        -5.81753097e-01],\n",
       "       [-1.30536129e+00, -1.09644102e+00, -2.11275117e-01,\n",
       "         4.96100622e-01,  6.58179416e-02,  1.81783542e+00,\n",
       "         1.32800623e-01, -1.89701011e+00,  1.19932384e-01,\n",
       "        -7.74714178e-01,  1.04694437e-01,  7.24731073e-01,\n",
       "         4.35706664e-01],\n",
       "       [-1.79857304e+00, -2.65192258e-01,  3.11819886e+00,\n",
       "         2.87176232e+00,  1.30280808e+00,  1.48553286e+00,\n",
       "         3.17236225e+00,  8.59993146e-01,  4.94226857e-01,\n",
       "         4.70271277e-01, -1.62050959e-01,  1.52593523e+00,\n",
       "        -8.86362964e-01],\n",
       "       [ 1.37031242e+00,  1.50987020e+00,  1.36395988e+00,\n",
       "         1.60474275e+00, -2.77790430e-01, -3.91976613e-01,\n",
       "        -1.29393239e+00,  1.58978813e+00, -3.90469170e-01,\n",
       "         1.89821159e+00, -1.58469307e+00, -1.46427314e+00,\n",
       "        -5.88033713e-01],\n",
       "       [ 1.28400036e+00, -6.28863591e-01, -2.82876708e-01,\n",
       "        -1.08767385e+00,  1.78385980e+00,  1.18646055e+00,\n",
       "         1.19768106e+00, -1.00503847e+00,  8.85534715e-01,\n",
       "         3.14090306e-01,  5.49270096e-01,  1.55454966e+00,\n",
       "         1.02834026e-01],\n",
       "       [ 1.03739449e+00, -7.32769686e-01,  1.11335432e+00,\n",
       "         1.76312020e+00, -9.65007174e-01,  1.10338491e+00,\n",
       "         8.77183063e-01, -1.24830346e+00,  4.94226857e-01,\n",
       "        -6.98854849e-01,  1.74962438e+00,  7.67652724e-01,\n",
       "        -1.05907990e+00],\n",
       "       [-9.47782779e-01, -5.42275178e-01, -8.55689435e-01,\n",
       "        -1.37409165e-01, -1.37733722e+00, -1.05658174e+00,\n",
       "         1.90755281e-02,  4.91098344e-02,  8.59056137e-02,\n",
       "        -6.89930223e-01,  1.49152003e-01,  7.81959941e-01,\n",
       "        -7.45049108e-01],\n",
       "       [ 1.67856976e+00, -4.21051401e-01,  7.51312468e-02,\n",
       "        -2.35469342e+00,  1.34539616e-01,  1.68491439e+00,\n",
       "         1.68359737e+00, -5.99596815e-01,  2.34868584e+00,\n",
       "         1.13961830e+00,  1.03830332e+00,  5.38737251e-01,\n",
       "         2.51145019e+00],\n",
       "       [-4.05249861e-01, -7.15452003e-01, -3.54478299e-01,\n",
       "         4.01074154e-01, -1.37733722e+00, -1.50519019e+00,\n",
       "        -5.70227237e-01,  1.75196479e+00,  6.88922286e-02,\n",
       "        -8.46111194e-01, -2.86782609e-02, -8.06141153e-01,\n",
       "        -7.92153726e-01],\n",
       "       [-8.36810136e-01,  8.11613923e-02,  3.61537610e-01,\n",
       "         4.96100622e-01, -1.40347081e-01,  4.55394918e-01,\n",
       "         1.01784688e-01, -1.94155159e-01, -4.58522711e-01,\n",
       "        -9.57669030e-01, -7.39999316e-01,  1.08241150e+00,\n",
       "        -9.71151277e-01]])"
      ]
     },
     "execution_count": 16,
     "metadata": {},
     "output_type": "execute_result"
    }
   ],
   "source": [
    "x_test_standardized"
   ]
  },
  {
   "cell_type": "markdown",
   "id": "42053a3c",
   "metadata": {},
   "source": [
    "### LDA"
   ]
  },
  {
   "cell_type": "code",
   "execution_count": 22,
   "id": "9bee75b5",
   "metadata": {},
   "outputs": [],
   "source": [
    "class CustomLDA:\n",
    "    def __init__(self, n_components=None):\n",
    "        self.n_components = n_components\n",
    "        self.selected_components = None\n",
    "\n",
    "    def fit(self, X, y):\n",
    "        # Assuming X is the feature matrix and y is the target variable\n",
    "\n",
    "        # Step 1: Compute the class means for each feature\n",
    "        class_means = []\n",
    "        for label in np.unique(y):\n",
    "            class_means.append(np.mean(X[y == label], axis=0))\n",
    "        class_means = np.array(class_means)\n",
    "\n",
    "        # Step 2: Compute the within-class scatter matrix\n",
    "        within_class_scatter_matrix = np.zeros((X.shape[1], X.shape[1]))\n",
    "        for label in np.unique(y):\n",
    "            class_scatter = np.cov(X[y == label], rowvar=False)\n",
    "            within_class_scatter_matrix += class_scatter\n",
    "\n",
    "        # Step 3: Compute the between-class scatter matrix\n",
    "        overall_mean = np.mean(X, axis=0)\n",
    "        between_class_scatter_matrix = np.zeros((X.shape[1], X.shape[1]))\n",
    "        for i in range(len(class_means)):\n",
    "            n = np.sum(y == i)\n",
    "            mean_diff = (class_means[i] - overall_mean).reshape(-1, 1)\n",
    "            between_class_scatter_matrix += n * mean_diff.dot(mean_diff.T)\n",
    "\n",
    "        # Step 4: Compute the eigenvalues and eigenvectors\n",
    "        eigenvalues, eigenvectors = np.linalg.eig(np.linalg.inv(within_class_scatter_matrix).dot(between_class_scatter_matrix))\n",
    "\n",
    "        # Step 5: Sort eigenvalues and corresponding eigenvectors\n",
    "        sorted_indices = np.argsort(eigenvalues)[::-1]\n",
    "        eigenvalues = eigenvalues[sorted_indices]\n",
    "        eigenvectors = eigenvectors[:, sorted_indices]\n",
    "\n",
    "        # Step 6: Choose the top k eigenvectors\n",
    "        if self.n_components is not None:\n",
    "            self.selected_components = eigenvectors[:, :self.n_components]\n",
    "        else:\n",
    "            self.selected_components = eigenvectors\n",
    "\n",
    "    def transform(self, X):\n",
    "        if self.selected_components is None:\n",
    "            raise ValueError(\"Fit the model before transforming the data.\")\n",
    "        return X.dot(self.selected_components)\n",
    "    \n",
    "    def fit_transform(self, X, y):\n",
    "        self.fit(X, y)\n",
    "        return self.transform(X)"
   ]
  },
  {
   "cell_type": "code",
   "execution_count": 23,
   "id": "8854b069",
   "metadata": {},
   "outputs": [],
   "source": [
    "custom_lda = CustomLDA(n_components=2)\n",
    "\n",
    "x_train_lda = custom_lda.fit_transform(x_train_standardized, y_train)\n",
    "\n",
    "# Transform the standardized test data using the learned components\n",
    "x_test_lda = custom_lda.transform(x_test_standardized)"
   ]
  },
  {
   "cell_type": "code",
   "execution_count": 31,
   "id": "617d6aa4",
   "metadata": {},
   "outputs": [
    {
     "name": "stdout",
     "output_type": "stream",
     "text": [
      "Number of features after LDA: 2\n"
     ]
    }
   ],
   "source": [
    "print(\"Number of features after LDA:\", x_test_lda.shape[1])"
   ]
  },
  {
   "cell_type": "code",
   "execution_count": 26,
   "id": "acd61fce",
   "metadata": {},
   "outputs": [],
   "source": [
    "x_train_lda = np.real(x_train_lda)\n",
    "x_test_lda = np.real(x_test_lda)"
   ]
  },
  {
   "cell_type": "code",
   "execution_count": 27,
   "id": "ba542dc2",
   "metadata": {},
   "outputs": [
    {
     "data": {
      "text/plain": [
       "LogisticRegression()"
      ]
     },
     "execution_count": 27,
     "metadata": {},
     "output_type": "execute_result"
    }
   ],
   "source": [
    "from sklearn.linear_model import LogisticRegression\n",
    "\n",
    "classifier = LogisticRegression()\n",
    "classifier.fit(x_train_lda, y_train)"
   ]
  },
  {
   "cell_type": "code",
   "execution_count": 32,
   "id": "4ba05251",
   "metadata": {},
   "outputs": [
    {
     "name": "stdout",
     "output_type": "stream",
     "text": [
      "[[11  0  0]\n",
      " [ 0 14  0]\n",
      " [ 0  0 11]]\n"
     ]
    },
    {
     "data": {
      "text/plain": [
       "1.0"
      ]
     },
     "execution_count": 32,
     "metadata": {},
     "output_type": "execute_result"
    }
   ],
   "source": [
    "from sklearn.metrics import confusion_matrix,accuracy_score\n",
    "y_pred = classifier.predict(x_test_lda)\n",
    "cm = confusion_matrix(y_test,y_pred)\n",
    "print(cm)\n",
    "accuracy_score(y_test,y_pred)"
   ]
  },
  {
   "cell_type": "code",
   "execution_count": 33,
   "id": "1583a158",
   "metadata": {},
   "outputs": [
    {
     "data": {
      "image/png": "[encoded data removed]",
      "text/plain": [
       "<Figure size 432x288 with 1 Axes>"
      ]
     },
     "metadata": {
      "needs_background": "light"
     },
     "output_type": "display_data"
    }
   ],
   "source": [
    "from matplotlib.colors import ListedColormap\n",
    "\n",
    "x_set, y_set = x_train_lda, y_train\n",
    "X1, X2 = np.meshgrid(np.arange(start=-4, stop=4.01, step=0.1),\n",
    "                     np.arange(start=-4, stop=4.01, step=0.1))\n",
    "\n",
    "Z = classifier.predict(np.array([X1.ravel(), X2.ravel()]).T)\n",
    "Z = Z.reshape(X1.shape)\n",
    "\n",
    "plt.contourf(X1, X2, Z, alpha=0.75, cmap=ListedColormap(('green', 'blue', 'red')))\n",
    "plt.xlim(X1.min(), X1.max())\n",
    "plt.ylim(X2.min(), X2.max())\n",
    "\n",
    "for i, j in enumerate(np.unique(y_set)):\n",
    "    plt.scatter(x_set[y_set == j, 0], x_set[y_set == j, 1],\n",
    "                color=ListedColormap(('salmon', 'dodgerblue', 'green'))(i), label=j, edgecolors='black', linewidth=0.7)\n",
    "\n",
    "plt.title('LDA (Training set)')\n",
    "plt.xlabel('Age')\n",
    "plt.ylabel('Estimated Salary')\n",
    "plt.legend()\n",
    "plt.show()"
   ]
  },
  {
   "cell_type": "code",
   "execution_count": 34,
   "id": "31df12db",
   "metadata": {},
   "outputs": [
    {
     "data": {
      "image/png": "[encoded data removed]",
      "text/plain": [
       "<Figure size 432x288 with 1 Axes>"
      ]
     },
     "metadata": {
      "needs_background": "light"
     },
     "output_type": "display_data"
    }
   ],
   "source": [
    "from matplotlib.colors import ListedColormap\n",
    "\n",
    "x_set, y_set = x_test_lda, y_test\n",
    "X1, X2 = np.meshgrid(np.arange(start=-4, stop=4.01, step=0.1),\n",
    "                     np.arange(start=-4, stop=4.01, step=0.1))\n",
    "\n",
    "Z = classifier.predict(np.array([X1.ravel(), X2.ravel()]).T)\n",
    "Z = Z.reshape(X1.shape)\n",
    "\n",
    "plt.contourf(X1, X2, Z, alpha=0.75, cmap=ListedColormap(('green', 'blue', 'red')))\n",
    "plt.xlim(X1.min(), X1.max())\n",
    "plt.ylim(X2.min(), X2.max())\n",
    "\n",
    "for i, j in enumerate(np.unique(y_set)):\n",
    "    plt.scatter(x_set[y_set == j, 0], x_set[y_set == j, 1],\n",
    "                color=ListedColormap(('salmon', 'dodgerblue', 'green'))(i), label=j, edgecolors='black', linewidth=0.7)\n",
    "\n",
    "plt.title('LDA (Test set)')\n",
    "plt.xlabel('Age')\n",
    "plt.ylabel('Estimated Salary')\n",
    "plt.legend()\n",
    "plt.show()"
   ]
  },
  {
   "cell_type": "code",
   "execution_count": null,
   "id": "ba160773",
   "metadata": {},
   "outputs": [],
   "source": []
  }
 ],
 "metadata": {
  "kernelspec": {
   "display_name": "Python 3 (ipykernel)",
   "language": "python",
   "name": "python3"
  },
  "language_info": {
   "codemirror_mode": {
    "name": "ipython",
    "version": 3
   },
   "file_extension": ".py",
   "mimetype": "text/x-python",
   "name": "python",
   "nbconvert_exporter": "python",
   "pygments_lexer": "ipython3",
   "version": "3.9.12"
  }
 },
 "nbformat": 4,
 "nbformat_minor": 5
}
