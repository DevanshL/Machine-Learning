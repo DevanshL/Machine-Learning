{
 "cells": [
  {
   "cell_type": "code",
   "execution_count": 1,
   "id": "f6e3f9b0",
   "metadata": {},
   "outputs": [],
   "source": [
    "# import zipfile as zf\n",
    "# import os\n",
    "\n",
    "# zip_file_path = r'C:\\Users\\HP\\Downloads\\P16-Convolutional-Neural-Networks.zip'\n",
    "# extract_folder = 'Neural Networks'\n",
    "\n",
    "# notebook_directory = os.getcwd()\n",
    "\n",
    "# zip_file_path_full = os.path.join(notebook_directory, zip_file_path)\n",
    "\n",
    "# extract_folder_full = os.path.join(notebook_directory, extract_folder)\n",
    "\n",
    "# with zf.ZipFile(zip_file_path_full, 'r') as zip_ref:\n",
    "#     zip_ref.extractall(extract_folder_full)\n"
   ]
  },
  {
   "cell_type": "markdown",
   "id": "83e5d0f1",
   "metadata": {},
   "source": [
    "### Data Preprocessing"
   ]
  },
  {
   "cell_type": "code",
   "execution_count": 2,
   "id": "5031a655",
   "metadata": {},
   "outputs": [
    {
     "name": "stdout",
     "output_type": "stream",
     "text": [
      "WARNING:tensorflow:From C:\\Users\\HP\\anaconda3\\envs\\py3\\lib\\site-packages\\keras\\src\\losses.py:2976: The name tf.losses.sparse_softmax_cross_entropy is deprecated. Please use tf.compat.v1.losses.sparse_softmax_cross_entropy instead.\n",
      "\n"
     ]
    }
   ],
   "source": [
    "import  tensorflow as tf\n",
    "from tensorflow.keras.preprocessing.image import ImageDataGenerator"
   ]
  },
  {
   "cell_type": "code",
   "execution_count": 3,
   "id": "79967b19",
   "metadata": {},
   "outputs": [
    {
     "data": {
      "text/plain": [
       "'2.15.0'"
      ]
     },
     "execution_count": 3,
     "metadata": {},
     "output_type": "execute_result"
    }
   ],
   "source": [
    "tf.__version__"
   ]
  },
  {
   "cell_type": "markdown",
   "id": "03756aa7",
   "metadata": {},
   "source": [
    "#### Preprocessing of training Set"
   ]
  },
  {
   "cell_type": "code",
   "execution_count": 4,
   "id": "09cefa69",
   "metadata": {},
   "outputs": [
    {
     "name": "stdout",
     "output_type": "stream",
     "text": [
      "Found 8000 images belonging to 2 classes.\n"
     ]
    }
   ],
   "source": [
    "train_datagen = ImageDataGenerator(\n",
    "            rescale=1./255,          ## Normalization for pixel\n",
    "            shear_range=0.2,\n",
    "            zoom_range=0.2,\n",
    "            horizontal_flip=True)\n",
    "\n",
    "training_set = train_datagen.flow_from_directory(\n",
    "            'Neural Networks/Part 2 - Convolutional Neural Networks/dataset/training_set',\n",
    "            target_size=(64,64),\n",
    "            batch_size=32,\n",
    "            class_mode='binary')"
   ]
  },
  {
   "cell_type": "markdown",
   "id": "d0ab6a66",
   "metadata": {},
   "source": [
    "#### Preprocessing of test set"
   ]
  },
  {
   "cell_type": "code",
   "execution_count": 5,
   "id": "057566c5",
   "metadata": {},
   "outputs": [
    {
     "name": "stdout",
     "output_type": "stream",
     "text": [
      "Found 2000 images belonging to 2 classes.\n"
     ]
    }
   ],
   "source": [
    "test_datagen = ImageDataGenerator(rescale=1./255)\n",
    "test_set = test_datagen.flow_from_directory(\n",
    "            'Neural Networks/Part 2 - Convolutional Neural Networks/dataset/test_set',\n",
    "            target_size=(64,64),\n",
    "            batch_size=32,\n",
    "            class_mode='binary')"
   ]
  },
  {
   "cell_type": "markdown",
   "id": "735044cb",
   "metadata": {},
   "source": [
    "### Building CNN"
   ]
  },
  {
   "cell_type": "markdown",
   "id": "f905748c",
   "metadata": {},
   "source": [
    "##### Initialising  CNN"
   ]
  },
  {
   "cell_type": "code",
   "execution_count": 6,
   "id": "f5090798",
   "metadata": {},
   "outputs": [
    {
     "name": "stdout",
     "output_type": "stream",
     "text": [
      "WARNING:tensorflow:From C:\\Users\\HP\\anaconda3\\envs\\py3\\lib\\site-packages\\keras\\src\\backend.py:873: The name tf.get_default_graph is deprecated. Please use tf.compat.v1.get_default_graph instead.\n",
      "\n"
     ]
    }
   ],
   "source": [
    "cnn = tf.keras.models.Sequential()"
   ]
  },
  {
   "cell_type": "code",
   "execution_count": 7,
   "id": "29299f9d",
   "metadata": {},
   "outputs": [],
   "source": [
    "## STEP -1      CONVOLUTION\n",
    "\n",
    "cnn.add(tf.keras.layers.Conv2D(filters=32,kernel_size=3,activation='relu',input_shape=[64,64,3]))"
   ]
  },
  {
   "cell_type": "code",
   "execution_count": 8,
   "id": "4270c771",
   "metadata": {},
   "outputs": [
    {
     "name": "stdout",
     "output_type": "stream",
     "text": [
      "WARNING:tensorflow:From C:\\Users\\HP\\anaconda3\\envs\\py3\\lib\\site-packages\\keras\\src\\layers\\pooling\\max_pooling2d.py:161: The name tf.nn.max_pool is deprecated. Please use tf.nn.max_pool2d instead.\n",
      "\n"
     ]
    }
   ],
   "source": [
    "## STEP -2      POOLING\n",
    "\n",
    "cnn.add(tf.keras.layers.MaxPool2D(pool_size=2,strides=2)) # pool matrix size and strides for move step forward"
   ]
  },
  {
   "cell_type": "code",
   "execution_count": 9,
   "id": "fba5446c",
   "metadata": {},
   "outputs": [],
   "source": [
    "## Adding second convolutional layer\n",
    "\n",
    "cnn.add(tf.keras.layers.Conv2D(filters=32,kernel_size=3,activation='relu'))"
   ]
  },
  {
   "cell_type": "code",
   "execution_count": 10,
   "id": "c4ee447c",
   "metadata": {},
   "outputs": [],
   "source": [
    "## Pooling\n",
    "\n",
    "cnn.add(tf.keras.layers.MaxPool2D(pool_size=2,strides=2)) # pool matrix size and strides for move step forward"
   ]
  },
  {
   "cell_type": "markdown",
   "id": "a688ca83",
   "metadata": {},
   "source": [
    "#### Flattening"
   ]
  },
  {
   "cell_type": "code",
   "execution_count": 11,
   "id": "685d2bd5",
   "metadata": {},
   "outputs": [],
   "source": [
    "cnn.add(tf.keras.layers.Flatten())"
   ]
  },
  {
   "cell_type": "markdown",
   "id": "e2d35dd1",
   "metadata": {},
   "source": [
    "#### Full connection"
   ]
  },
  {
   "cell_type": "code",
   "execution_count": 12,
   "id": "f83ff3ca",
   "metadata": {},
   "outputs": [],
   "source": [
    "cnn.add(tf.keras.layers.Dense(units=128,activation='relu'))"
   ]
  },
  {
   "cell_type": "markdown",
   "id": "6c69b61f",
   "metadata": {},
   "source": [
    "#### Output layer"
   ]
  },
  {
   "cell_type": "code",
   "execution_count": 13,
   "id": "031ebacf",
   "metadata": {},
   "outputs": [],
   "source": [
    "cnn.add(tf.keras.layers.Dense(units=1,activation='sigmoid'))"
   ]
  },
  {
   "cell_type": "markdown",
   "id": "ae909589",
   "metadata": {},
   "source": [
    "### Training the CNN"
   ]
  },
  {
   "cell_type": "markdown",
   "id": "a1c77fe1",
   "metadata": {},
   "source": [
    "#### compiling the CNN"
   ]
  },
  {
   "cell_type": "code",
   "execution_count": 14,
   "id": "7bec1c7a",
   "metadata": {},
   "outputs": [
    {
     "name": "stdout",
     "output_type": "stream",
     "text": [
      "WARNING:tensorflow:From C:\\Users\\HP\\anaconda3\\envs\\py3\\lib\\site-packages\\keras\\src\\optimizers\\__init__.py:309: The name tf.train.Optimizer is deprecated. Please use tf.compat.v1.train.Optimizer instead.\n",
      "\n"
     ]
    }
   ],
   "source": [
    "cnn.compile(optimizer='adam',loss='binary_crossentropy',metrics=['accuracy'])"
   ]
  },
  {
   "cell_type": "markdown",
   "id": "228f2e85",
   "metadata": {},
   "source": [
    "#### Training CNN on trainig set and Evaluating it on Test set"
   ]
  },
  {
   "cell_type": "code",
   "execution_count": 15,
   "id": "27a8f5fb",
   "metadata": {},
   "outputs": [
    {
     "name": "stdout",
     "output_type": "stream",
     "text": [
      "Epoch 1/25\n",
      "WARNING:tensorflow:From C:\\Users\\HP\\anaconda3\\envs\\py3\\lib\\site-packages\\keras\\src\\utils\\tf_utils.py:492: The name tf.ragged.RaggedTensorValue is deprecated. Please use tf.compat.v1.ragged.RaggedTensorValue instead.\n",
      "\n",
      "WARNING:tensorflow:From C:\\Users\\HP\\anaconda3\\envs\\py3\\lib\\site-packages\\keras\\src\\engine\\base_layer_utils.py:384: The name tf.executing_eagerly_outside_functions is deprecated. Please use tf.compat.v1.executing_eagerly_outside_functions instead.\n",
      "\n",
      "250/250 [==============================] - 224s 883ms/step - loss: 0.6777 - accuracy: 0.5749 - val_loss: 0.6214 - val_accuracy: 0.6660\n",
      "Epoch 2/25\n",
      "250/250 [==============================] - 86s 344ms/step - loss: 0.6144 - accuracy: 0.6683 - val_loss: 0.5813 - val_accuracy: 0.6880\n",
      "Epoch 3/25\n",
      "250/250 [==============================] - 87s 346ms/step - loss: 0.5672 - accuracy: 0.7040 - val_loss: 0.5321 - val_accuracy: 0.7385\n",
      "Epoch 4/25\n",
      "250/250 [==============================] - 88s 350ms/step - loss: 0.5380 - accuracy: 0.7280 - val_loss: 0.5103 - val_accuracy: 0.7510\n",
      "Epoch 5/25\n",
      "250/250 [==============================] - 77s 308ms/step - loss: 0.5049 - accuracy: 0.7454 - val_loss: 0.5583 - val_accuracy: 0.7135\n",
      "Epoch 6/25\n",
      "250/250 [==============================] - 82s 327ms/step - loss: 0.4929 - accuracy: 0.7601 - val_loss: 0.4946 - val_accuracy: 0.7570\n",
      "Epoch 7/25\n",
      "250/250 [==============================] - 83s 331ms/step - loss: 0.4685 - accuracy: 0.7715 - val_loss: 0.4792 - val_accuracy: 0.7770\n",
      "Epoch 8/25\n",
      "250/250 [==============================] - 72s 287ms/step - loss: 0.4602 - accuracy: 0.7797 - val_loss: 0.4848 - val_accuracy: 0.7790\n",
      "Epoch 9/25\n",
      "250/250 [==============================] - 58s 232ms/step - loss: 0.4429 - accuracy: 0.7895 - val_loss: 0.4761 - val_accuracy: 0.7735\n",
      "Epoch 10/25\n",
      "250/250 [==============================] - 58s 230ms/step - loss: 0.4246 - accuracy: 0.8019 - val_loss: 0.4806 - val_accuracy: 0.7755\n",
      "Epoch 11/25\n",
      "250/250 [==============================] - 65s 259ms/step - loss: 0.4117 - accuracy: 0.8069 - val_loss: 0.5506 - val_accuracy: 0.7290\n",
      "Epoch 12/25\n",
      "250/250 [==============================] - 63s 251ms/step - loss: 0.3969 - accuracy: 0.8159 - val_loss: 0.4794 - val_accuracy: 0.7950\n",
      "Epoch 13/25\n",
      "250/250 [==============================] - 64s 256ms/step - loss: 0.3840 - accuracy: 0.8238 - val_loss: 0.4731 - val_accuracy: 0.7905\n",
      "Epoch 14/25\n",
      "250/250 [==============================] - 56s 223ms/step - loss: 0.3773 - accuracy: 0.8301 - val_loss: 0.4538 - val_accuracy: 0.7930\n",
      "Epoch 15/25\n",
      "250/250 [==============================] - 70s 280ms/step - loss: 0.3635 - accuracy: 0.8369 - val_loss: 0.4507 - val_accuracy: 0.7935\n",
      "Epoch 16/25\n",
      "250/250 [==============================] - 68s 273ms/step - loss: 0.3467 - accuracy: 0.8450 - val_loss: 0.4540 - val_accuracy: 0.7950\n",
      "Epoch 17/25\n",
      "250/250 [==============================] - 64s 257ms/step - loss: 0.3385 - accuracy: 0.8504 - val_loss: 0.4518 - val_accuracy: 0.8055\n",
      "Epoch 18/25\n",
      "250/250 [==============================] - 59s 236ms/step - loss: 0.3240 - accuracy: 0.8604 - val_loss: 0.4539 - val_accuracy: 0.8015\n",
      "Epoch 19/25\n",
      "250/250 [==============================] - 61s 246ms/step - loss: 0.3101 - accuracy: 0.8644 - val_loss: 0.5029 - val_accuracy: 0.7835\n",
      "Epoch 20/25\n",
      "250/250 [==============================] - 57s 229ms/step - loss: 0.2929 - accuracy: 0.8739 - val_loss: 0.4842 - val_accuracy: 0.7935\n",
      "Epoch 21/25\n",
      "250/250 [==============================] - 60s 241ms/step - loss: 0.2807 - accuracy: 0.8831 - val_loss: 0.4851 - val_accuracy: 0.8100\n",
      "Epoch 22/25\n",
      "250/250 [==============================] - 56s 225ms/step - loss: 0.2713 - accuracy: 0.8860 - val_loss: 0.5008 - val_accuracy: 0.8045\n",
      "Epoch 23/25\n",
      "250/250 [==============================] - 56s 223ms/step - loss: 0.2580 - accuracy: 0.8881 - val_loss: 0.5186 - val_accuracy: 0.7960\n",
      "Epoch 24/25\n",
      "250/250 [==============================] - 59s 234ms/step - loss: 0.2540 - accuracy: 0.8930 - val_loss: 0.4962 - val_accuracy: 0.8005\n",
      "Epoch 25/25\n",
      "250/250 [==============================] - 60s 242ms/step - loss: 0.2276 - accuracy: 0.9065 - val_loss: 0.5097 - val_accuracy: 0.8165\n"
     ]
    },
    {
     "data": {
      "text/plain": [
       "<keras.src.callbacks.History at 0x1d8bacc6fd0>"
      ]
     },
     "execution_count": 15,
     "metadata": {},
     "output_type": "execute_result"
    }
   ],
   "source": [
    "from scipy import ndimage\n",
    "\n",
    "cnn.fit(x=training_set, validation_data=test_set, epochs=25)"
   ]
  },
  {
   "cell_type": "markdown",
   "id": "f0ed5bfd",
   "metadata": {},
   "source": [
    "\n",
    "\n",
    "\n",
    "\n",
    "\n",
    "\n",
    "### Making a single prediction"
   ]
  },
  {
   "cell_type": "code",
   "execution_count": 16,
   "id": "4f2dbb92",
   "metadata": {},
   "outputs": [
    {
     "name": "stdout",
     "output_type": "stream",
     "text": [
      "1/1 [==============================] - 1s 665ms/step\n"
     ]
    }
   ],
   "source": [
    "import numpy as np\n",
    "from keras.preprocessing import image\n",
    "\n",
    "test_image = image.load_img('Neural Networks/Part 2 - Convolutional Neural Networks/dataset/single_prediction/cat_or_dog_1.jpg',target_size=(64,64))\n",
    "test_image = image.img_to_array(test_image)\n",
    "test_image = np.expand_dims(test_image,axis=0)\n",
    "result = cnn.predict(test_image)\n",
    "training_set.class_indices\n",
    "if result[0][0] == 1:\n",
    "    prediction = 'dog'\n",
    "else:\n",
    "    prediction = 'cat'"
   ]
  },
  {
   "cell_type": "code",
   "execution_count": 18,
   "id": "551d590e",
   "metadata": {},
   "outputs": [
    {
     "name": "stdout",
     "output_type": "stream",
     "text": [
      "[[1.]] dog\n"
     ]
    }
   ],
   "source": [
    "print(result,prediction)"
   ]
  },
  {
   "cell_type": "code",
   "execution_count": null,
   "id": "5939b8b8",
   "metadata": {},
   "outputs": [],
   "source": []
  }
 ],
 "metadata": {
  "kernelspec": {
   "display_name": "Python 3 (ipykernel)",
   "language": "python",
   "name": "python3"
  },
  "language_info": {
   "codemirror_mode": {
    "name": "ipython",
    "version": 3
   },
   "file_extension": ".py",
   "mimetype": "text/x-python",
   "name": "python",
   "nbconvert_exporter": "python",
   "pygments_lexer": "ipython3",
   "version": "3.9.12"
  }
 },
 "nbformat": 4,
 "nbformat_minor": 5
}
