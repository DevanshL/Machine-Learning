{
 "cells": [
  {
   "cell_type": "code",
   "execution_count": 22,
   "id": "dfdcf574",
   "metadata": {},
   "outputs": [],
   "source": [
    "import numpy as np\n",
    "import pandas as pd\n",
    "import matplotlib.pyplot as plt"
   ]
  },
  {
   "cell_type": "markdown",
   "id": "319b8204",
   "metadata": {},
   "source": [
    "#### Import Data"
   ]
  },
  {
   "cell_type": "code",
   "execution_count": 23,
   "id": "db60475a",
   "metadata": {},
   "outputs": [
    {
     "data": {
      "text/html": [
       "<div>\n",
       "<style scoped>\n",
       "    .dataframe tbody tr th:only-of-type {\n",
       "        vertical-align: middle;\n",
       "    }\n",
       "\n",
       "    .dataframe tbody tr th {\n",
       "        vertical-align: top;\n",
       "    }\n",
       "\n",
       "    .dataframe thead th {\n",
       "        text-align: right;\n",
       "    }\n",
       "</style>\n",
       "<table border=\"1\" class=\"dataframe\">\n",
       "  <thead>\n",
       "    <tr style=\"text-align: right;\">\n",
       "      <th></th>\n",
       "      <th>Alcohol</th>\n",
       "      <th>Malic_Acid</th>\n",
       "      <th>Ash</th>\n",
       "      <th>Ash_Alcanity</th>\n",
       "      <th>Magnesium</th>\n",
       "      <th>Total_Phenols</th>\n",
       "      <th>Flavanoids</th>\n",
       "      <th>Nonflavanoid_Phenols</th>\n",
       "      <th>Proanthocyanins</th>\n",
       "      <th>Color_Intensity</th>\n",
       "      <th>Hue</th>\n",
       "      <th>OD280</th>\n",
       "      <th>Proline</th>\n",
       "      <th>Customer_Segment</th>\n",
       "    </tr>\n",
       "  </thead>\n",
       "  <tbody>\n",
       "    <tr>\n",
       "      <th>0</th>\n",
       "      <td>14.23</td>\n",
       "      <td>1.71</td>\n",
       "      <td>2.43</td>\n",
       "      <td>15.6</td>\n",
       "      <td>127</td>\n",
       "      <td>2.80</td>\n",
       "      <td>3.06</td>\n",
       "      <td>0.28</td>\n",
       "      <td>2.29</td>\n",
       "      <td>5.64</td>\n",
       "      <td>1.04</td>\n",
       "      <td>3.92</td>\n",
       "      <td>1065</td>\n",
       "      <td>1</td>\n",
       "    </tr>\n",
       "    <tr>\n",
       "      <th>1</th>\n",
       "      <td>13.20</td>\n",
       "      <td>1.78</td>\n",
       "      <td>2.14</td>\n",
       "      <td>11.2</td>\n",
       "      <td>100</td>\n",
       "      <td>2.65</td>\n",
       "      <td>2.76</td>\n",
       "      <td>0.26</td>\n",
       "      <td>1.28</td>\n",
       "      <td>4.38</td>\n",
       "      <td>1.05</td>\n",
       "      <td>3.40</td>\n",
       "      <td>1050</td>\n",
       "      <td>1</td>\n",
       "    </tr>\n",
       "    <tr>\n",
       "      <th>2</th>\n",
       "      <td>13.16</td>\n",
       "      <td>2.36</td>\n",
       "      <td>2.67</td>\n",
       "      <td>18.6</td>\n",
       "      <td>101</td>\n",
       "      <td>2.80</td>\n",
       "      <td>3.24</td>\n",
       "      <td>0.30</td>\n",
       "      <td>2.81</td>\n",
       "      <td>5.68</td>\n",
       "      <td>1.03</td>\n",
       "      <td>3.17</td>\n",
       "      <td>1185</td>\n",
       "      <td>1</td>\n",
       "    </tr>\n",
       "    <tr>\n",
       "      <th>3</th>\n",
       "      <td>14.37</td>\n",
       "      <td>1.95</td>\n",
       "      <td>2.50</td>\n",
       "      <td>16.8</td>\n",
       "      <td>113</td>\n",
       "      <td>3.85</td>\n",
       "      <td>3.49</td>\n",
       "      <td>0.24</td>\n",
       "      <td>2.18</td>\n",
       "      <td>7.80</td>\n",
       "      <td>0.86</td>\n",
       "      <td>3.45</td>\n",
       "      <td>1480</td>\n",
       "      <td>1</td>\n",
       "    </tr>\n",
       "    <tr>\n",
       "      <th>4</th>\n",
       "      <td>13.24</td>\n",
       "      <td>2.59</td>\n",
       "      <td>2.87</td>\n",
       "      <td>21.0</td>\n",
       "      <td>118</td>\n",
       "      <td>2.80</td>\n",
       "      <td>2.69</td>\n",
       "      <td>0.39</td>\n",
       "      <td>1.82</td>\n",
       "      <td>4.32</td>\n",
       "      <td>1.04</td>\n",
       "      <td>2.93</td>\n",
       "      <td>735</td>\n",
       "      <td>1</td>\n",
       "    </tr>\n",
       "  </tbody>\n",
       "</table>\n",
       "</div>"
      ],
      "text/plain": [
       "   Alcohol  Malic_Acid   Ash  Ash_Alcanity  Magnesium  Total_Phenols  \\\n",
       "0    14.23        1.71  2.43          15.6        127           2.80   \n",
       "1    13.20        1.78  2.14          11.2        100           2.65   \n",
       "2    13.16        2.36  2.67          18.6        101           2.80   \n",
       "3    14.37        1.95  2.50          16.8        113           3.85   \n",
       "4    13.24        2.59  2.87          21.0        118           2.80   \n",
       "\n",
       "   Flavanoids  Nonflavanoid_Phenols  Proanthocyanins  Color_Intensity   Hue  \\\n",
       "0        3.06                  0.28             2.29             5.64  1.04   \n",
       "1        2.76                  0.26             1.28             4.38  1.05   \n",
       "2        3.24                  0.30             2.81             5.68  1.03   \n",
       "3        3.49                  0.24             2.18             7.80  0.86   \n",
       "4        2.69                  0.39             1.82             4.32  1.04   \n",
       "\n",
       "   OD280  Proline  Customer_Segment  \n",
       "0   3.92     1065                 1  \n",
       "1   3.40     1050                 1  \n",
       "2   3.17     1185                 1  \n",
       "3   3.45     1480                 1  \n",
       "4   2.93      735                 1  "
      ]
     },
     "execution_count": 23,
     "metadata": {},
     "output_type": "execute_result"
    }
   ],
   "source": [
    "df = pd.read_csv('Wine.csv')\n",
    "df.head()"
   ]
  },
  {
   "cell_type": "code",
   "execution_count": 24,
   "id": "e182aa40",
   "metadata": {},
   "outputs": [
    {
     "data": {
      "text/plain": [
       "14"
      ]
     },
     "execution_count": 24,
     "metadata": {},
     "output_type": "execute_result"
    }
   ],
   "source": [
    "df.columns.nunique()"
   ]
  },
  {
   "cell_type": "markdown",
   "id": "2049ce9f",
   "metadata": {},
   "source": [
    "#### Split the Data"
   ]
  },
  {
   "cell_type": "code",
   "execution_count": 25,
   "id": "8a9a9b13",
   "metadata": {},
   "outputs": [],
   "source": [
    "x = df.iloc[:,:-1].values\n",
    "y = df.iloc[:,-1].values"
   ]
  },
  {
   "cell_type": "markdown",
   "id": "00750924",
   "metadata": {},
   "source": [
    "#### Split training and test data"
   ]
  },
  {
   "cell_type": "code",
   "execution_count": 26,
   "id": "05c0b71c",
   "metadata": {},
   "outputs": [],
   "source": [
    "from sklearn.model_selection import train_test_split\n",
    "\n",
    "x_train,x_test,y_train,y_test = train_test_split(x,y,test_size=0.2,random_state=42)"
   ]
  },
  {
   "cell_type": "markdown",
   "id": "c111ff83",
   "metadata": {},
   "source": [
    "#### Feature Scaling"
   ]
  },
  {
   "cell_type": "code",
   "execution_count": 27,
   "id": "e633f69f",
   "metadata": {},
   "outputs": [],
   "source": [
    "from sklearn.preprocessing import StandardScaler\n",
    "sc = StandardScaler()\n",
    "x_train = sc.fit_transform(x_train)\n",
    "x_test = sc.fit_transform(x_test)"
   ]
  },
  {
   "cell_type": "code",
   "execution_count": 28,
   "id": "6b74fd2b",
   "metadata": {},
   "outputs": [
    {
     "data": {
      "text/plain": [
       "array([[ 1.66529275, -0.60840587,  1.21896194, ..., -1.65632857,\n",
       "        -0.87940904, -0.24860607],\n",
       "       [-0.54952506,  2.7515415 ,  1.00331502, ..., -0.58463272,\n",
       "        -1.25462095, -0.72992237],\n",
       "       [-0.74531007, -1.14354109, -0.93750727, ...,  0.35845962,\n",
       "         0.2462267 , -0.24860607],\n",
       "       ...,\n",
       "       [ 1.714239  , -0.44172441,  0.06884503, ...,  1.04434496,\n",
       "         0.56585166,  2.69572196],\n",
       "       [-0.35374006, -0.7399965 , -0.36244882, ...,  0.01551695,\n",
       "        -0.74044166, -0.79631083],\n",
       "       [-0.78201975,  0.06709269,  0.35637426, ..., -0.67036839,\n",
       "         1.09392769, -0.98551793]])"
      ]
     },
     "execution_count": 28,
     "metadata": {},
     "output_type": "execute_result"
    }
   ],
   "source": [
    "x_train"
   ]
  },
  {
   "cell_type": "code",
   "execution_count": 29,
   "id": "ab18b143",
   "metadata": {},
   "outputs": [
    {
     "data": {
      "text/plain": [
       "array([[ 0.71755938,  0.91772503,  0.67600125, -1.5413486 ,  1.54012713,\n",
       "         0.66116374,  0.92087306, -1.59932322,  0.26266406,  0.01763565,\n",
       "        -0.00811294,  1.02887945,  0.14260936],\n",
       "       [ 1.4552507 ,  1.86541545,  0.20192245, -0.23946126,  1.13542219,\n",
       "         0.92138854,  0.52928016, -0.35805744, -0.52532812,  0.07936039,\n",
       "        -0.44621167,  0.98307608,  0.80260671],\n",
       "       [-0.20131927,  0.62535246,  1.22909319,  0.49944777, -0.07869263,\n",
       "        -1.35124135, -1.68631121,  1.83802818, -1.48629418, -0.20280985,\n",
       "        -0.93298803, -0.57423857, -0.54547299],\n",
       "       [ 0.83403696, -0.69536505,  1.22909319,  1.02723994,  0.32601231,\n",
       "         1.18161334,  1.14758473, -0.45353942,  1.64645519,  0.28217026,\n",
       "         1.1114727 ,  0.03647306,  1.37834908],\n",
       "       [-0.92606862, -1.02806488, -1.85241902,  0.00684175, -1.53563041,\n",
       "        -0.36238712, -0.14054979, -0.64450339, -0.92893386, -0.16753857,\n",
       "         0.77072924,  1.21209294, -0.79823793],\n",
       "       [ 1.57172827, -0.2719289 ,  1.30810632,  0.14758633,  1.86389108,\n",
       "         0.83464694,  1.03422889, -0.07161149,  0.85846302,  0.50261576,\n",
       "         0.52734106, -0.05513369,  1.36430658],\n",
       "       [-1.40492088,  1.25042486, -1.53636649, -0.20427512, -0.80716152,\n",
       "        -0.55321864, -0.51153253,  0.31031645,  0.6662698 , -1.66656799,\n",
       "        -0.15414585,  0.55557794, -0.64657897],\n",
       "       [ 0.40695252,  1.73435189,  0.35994872,  1.20317066,  0.4069533 ,\n",
       "        -0.90018504, -1.42868431,  0.88320834, -0.21781897,  0.98759587,\n",
       "        -1.27373148, -1.71932287, -0.12419808],\n",
       "       [-1.90965704, -0.84659224,  1.22909319,  0.14758633, -0.2405746 ,\n",
       "         0.73055702,  0.80751722, -0.45353942,  1.85786772, -1.06254731,\n",
       "        -0.00811294,  0.87620154, -0.32079304],\n",
       "       [ 0.35518471,  0.37330713, -0.15363665,  0.14758633, -0.64527954,\n",
       "        -1.59411783, -1.68631121,  0.31031645, -1.69770671,  0.23808116,\n",
       "        -1.27373148, -0.32995392, -0.0399431 ],\n",
       "       [ 0.53637204, -0.38282884,  0.87353409,  0.14758633, -0.07869263,\n",
       "         0.36624231,  0.48805986, -0.5490214 ,  0.26266406, -0.67897214,\n",
       "         0.77072924,  1.73119782,  0.14260936],\n",
       "       [ 0.53637204,  0.93788866,  0.91304066,  1.55503211,  2.10671404,\n",
       "        -1.59411783, -0.58366806, -1.1219133 , -0.52532812,  1.56075417,\n",
       "        -1.80918548, -2.11628543, -0.82632292],\n",
       "       [ 0.41989447,  1.66377919, -1.06228769, -0.27464741, -0.56433855,\n",
       "         0.22745575,  0.56019539, -0.64450339, -0.08328373, -0.34389497,\n",
       "        -0.25150112,  0.47923898,  0.67622424],\n",
       "       [-0.40839051,  1.25042486, -1.61537962, -1.25985945, -1.37374843,\n",
       "        -1.19510648, -0.9134305 ,  0.88320834, -1.33253961, -0.73187906,\n",
       "        -1.27373148, -0.86432659, -1.18581084],\n",
       "       [ 0.70461743, -0.38282884,  1.22909319, -0.83762572,  1.21636318,\n",
       "         0.92138854,  0.79721214, -0.35805744, -0.12172237,  0.98759587,\n",
       "         1.54957142,  0.2960255 ,  1.44856156],\n",
       "       [-0.73193933,  0.24224356, -0.86475485,  0.49944777, -0.72622053,\n",
       "         0.40093895,  0.13768727, -0.73998537, -0.58298608, -1.34912647,\n",
       "        -0.30017876,  0.14334759, -1.31781031],\n",
       "       [-2.1684961 , -1.46158283,  0.43896185,  0.49944777, -0.72622053,\n",
       "         0.27950071, -0.13024471,  0.78772636, -0.16016101, -0.87296418,\n",
       "         0.67337397, -0.57423857, -1.01168388],\n",
       "       [-1.30138526, -1.06839213,  0.47846842,  1.55503211, -1.53563041,\n",
       "        -0.55321864, -0.57336299,  0.5967624 , -0.2370383 , -1.26094827,\n",
       "         1.69560433,  0.05174085, -0.46121801],\n",
       "       [ 1.00228235, -0.84659224, -0.46968918, -1.25985945,  0.08318935,\n",
       "         1.1469167 ,  1.04453397, -1.1219133 ,  0.62783116,  0.95232459,\n",
       "         0.23527524,  1.31896747,  0.70430923],\n",
       "       [-1.30138526, -0.80626499,  0.43896185,  1.02723994, -1.04998448,\n",
       "         0.41828727,  0.15829742,  0.88320834, -0.92893386, -0.95232456,\n",
       "        -0.15414585,  0.76932701, -1.14930035],\n",
       "       [ 1.42936679, -0.60462873,  0.35994872, -1.08392873,  0.89259923,\n",
       "         1.70206293,  1.84832991, -0.16709347,  0.64705048,  1.60484327,\n",
       "         1.30618324,  0.20441875,  2.48770633],\n",
       "       [ 0.03163588, -1.18937388, -2.72156349, -1.61172089, -1.53563041,\n",
       "         1.1469167 ,  1.0754492 , -0.73998537,  1.45426198,  0.10581385,\n",
       "         0.77072924,  0.75405922, -0.82070593],\n",
       "       [-0.97783644, -1.09863757, -0.43018262, -1.25985945,  0.32601231,\n",
       "        -0.46647704, -1.07831172,  2.79284801, -2.1397511 , -0.78919489,\n",
       "         1.40353851, -1.55137717, -0.32079304],\n",
       "       [ 0.40695252,  2.42999698,  1.86119826,  1.90689355,  1.21636318,\n",
       "        -0.58791528, -1.21227771, -0.64450339, -0.79439861,  1.51666507,\n",
       "        -1.41976439, -1.16968241, -0.46121801],\n",
       "       [-0.40839051,  0.20191631, -0.43018262, -0.02834439, -0.8881025 ,\n",
       "        -1.61146615, -1.67600614,  1.36061826, -1.69770671,  2.13391204,\n",
       "        -1.90654075, -1.61244834, -0.91057791],\n",
       "       [ 0.89874672,  0.57494339, -0.35116948,  0.85130922, -0.56433855,\n",
       "        -1.68085943, -1.50081984,  0.69224438, -0.94815318,  1.99282736,\n",
       "        -1.27373148, -1.53610938, -0.5033455 ],\n",
       "       [-0.86135886, -0.5844651 , -0.78574172,  1.02723994,  0.89259923,\n",
       "        -0.55321864, -0.0478041 ,  0.0238705 ,  0.16656745, -1.32267301,\n",
       "         0.47866342,  0.41816782, -1.26164033],\n",
       "       [-0.92606862, -0.98773762,  0.67600125, -0.52095042,  0.08318935,\n",
       "         0.17541079,  0.52928016,  0.31031645,  1.06987555, -0.20280985,\n",
       "         1.1114727 , -0.58950636, -0.32641004],\n",
       "       [-1.30138526, -0.36266522, -0.27215635, -0.38020584, -1.29280744,\n",
       "        -1.24715144, -0.6558036 ,  1.74254619,  0.22422542, -1.17277006,\n",
       "         0.5760187 , -0.63530973, -0.88249291],\n",
       "       [ 0.61402376, -0.46348335,  0.28093559,  0.32351705,  1.54012713,\n",
       "         1.11222006,  0.66324615, -1.31287727,  1.78099044,  0.52466031,\n",
       "         0.08924233,  0.52504236,  0.91494668],\n",
       "       [ 1.20935359, -0.51389241, -0.70672858, -1.25985945, -0.07869263,\n",
       "         0.57442214,  0.19951772, -0.73998537,  0.87768234, -0.15872075,\n",
       "         0.38130815,  1.38003863,  0.67622424],\n",
       "       [-0.92606862, -0.56430148, -0.35116948,  1.73096283, -0.72622053,\n",
       "        -0.17155561,  0.32317864,  0.5967624 ,  0.72392777, -1.29621955,\n",
       "        -0.34885639,  0.14334759, -1.27006582],\n",
       "       [ 0.09634565,  1.39157024, -0.94376799,  0.49944777,  0.4069533 ,\n",
       "        -1.42063463, -1.63478583,  0.88320834, -0.42923151, -0.46734445,\n",
       "        -1.76050785, -1.53610938,  0.10048187],\n",
       "       [ 0.63990767, -0.53405604, -0.11413008, -0.16908897,  0.73071725,\n",
       "         0.93873686,  1.08575427, -1.1219133 ,  0.82002437,  0.81123946,\n",
       "         0.62469633,  0.2960255 ,  2.02430393],\n",
       "       [ 0.85992087, -0.46348335,  0.08340275, -1.25985945, -0.64527954,\n",
       "         0.48768055,  0.642636  , -0.45353942,  0.55095388,  0.23808116,\n",
       "         0.91676215,  0.32656108,  1.47664656],\n",
       "       [ 1.02816625, -0.30217434,  0.79452096, -1.61172089,  0.32601231,\n",
       "         1.61532133,  1.46704209, -1.59932322,  0.33954134,  0.16312968,\n",
       "        -0.39753403,  1.33423526,  0.8447342 ]])"
      ]
     },
     "execution_count": 29,
     "metadata": {},
     "output_type": "execute_result"
    }
   ],
   "source": [
    "x_test"
   ]
  },
  {
   "cell_type": "markdown",
   "id": "86c3d8df",
   "metadata": {},
   "source": [
    "### Applying PCA"
   ]
  },
  {
   "cell_type": "code",
   "execution_count": 30,
   "id": "cc24d676",
   "metadata": {},
   "outputs": [],
   "source": [
    "from sklearn.decomposition import PCA\n",
    "\n",
    "pca = PCA(n_components = 2)\n",
    "x_train = pca.fit_transform(x_train)\n",
    "x_test = pca.transform(x_test)"
   ]
  },
  {
   "cell_type": "markdown",
   "id": "b57a9627",
   "metadata": {},
   "source": [
    "#### Logistic Regression model on Training set"
   ]
  },
  {
   "cell_type": "code",
   "execution_count": 31,
   "id": "b41058e2",
   "metadata": {},
   "outputs": [
    {
     "data": {
      "text/plain": [
       "LogisticRegression(random_state=0)"
      ]
     },
     "execution_count": 31,
     "metadata": {},
     "output_type": "execute_result"
    }
   ],
   "source": [
    "from sklearn.linear_model import LogisticRegression\n",
    "\n",
    "lr = LogisticRegression(random_state=0)\n",
    "lr.fit(x_train,y_train)"
   ]
  },
  {
   "cell_type": "markdown",
   "id": "5f0fe989",
   "metadata": {},
   "source": [
    "#### Confusion Matrix"
   ]
  },
  {
   "cell_type": "code",
   "execution_count": 32,
   "id": "4b658a85",
   "metadata": {},
   "outputs": [
    {
     "name": "stdout",
     "output_type": "stream",
     "text": [
      "[[14  0  0]\n",
      " [ 0 14  0]\n",
      " [ 0  0  8]]\n"
     ]
    },
    {
     "data": {
      "text/plain": [
       "1.0"
      ]
     },
     "execution_count": 32,
     "metadata": {},
     "output_type": "execute_result"
    }
   ],
   "source": [
    "from sklearn.metrics import confusion_matrix,accuracy_score\n",
    "y_pred = lr.predict(x_test)\n",
    "cm = confusion_matrix(y_test,y_pred)\n",
    "print(cm)\n",
    "accuracy_score(y_test,y_pred)"
   ]
  },
  {
   "cell_type": "markdown",
   "id": "97a4b02b",
   "metadata": {},
   "source": [
    "#### Visualising Training Results"
   ]
  },
  {
   "cell_type": "code",
   "execution_count": 44,
   "id": "2612f9a8",
   "metadata": {},
   "outputs": [
    {
     "data": {
      "image/png": "[encoded data removed]",
      "text/plain": [
       "<Figure size 432x288 with 1 Axes>"
      ]
     },
     "metadata": {
      "needs_background": "light"
     },
     "output_type": "display_data"
    }
   ],
   "source": [
    "from matplotlib.colors import ListedColormap\n",
    "\n",
    "x_set, y_set = x_train, y_train\n",
    "X1, X2 = np.meshgrid(np.arange(start=-4, stop=4.01, step=0.1),\n",
    "                     np.arange(start=-4, stop=4.01, step=0.1))\n",
    "\n",
    "Z = lr.predict(np.array([X1.ravel(), X2.ravel()]).T)\n",
    "Z = Z.reshape(X1.shape)\n",
    "\n",
    "plt.contourf(X1, X2, Z, alpha=0.75, cmap=ListedColormap(('green', 'blue', 'red')))\n",
    "plt.xlim(X1.min(), X1.max())\n",
    "plt.ylim(X2.min(), X2.max())\n",
    "\n",
    "for i, j in enumerate(np.unique(y_set)):\n",
    "    plt.scatter(x_set[y_set == j, 0], x_set[y_set == j, 1],\n",
    "                color=ListedColormap(('salmon', 'dodgerblue', 'green'))(i), label=j, edgecolors='black', linewidth=0.7)\n",
    "\n",
    "plt.title('PCA (Training set)')\n",
    "plt.xlabel('Age')\n",
    "plt.ylabel('Estimated Salary')\n",
    "plt.legend()\n",
    "plt.show()\n"
   ]
  },
  {
   "cell_type": "markdown",
   "id": "7d95e4bd",
   "metadata": {},
   "source": [
    "#### Test Set"
   ]
  },
  {
   "cell_type": "code",
   "execution_count": 45,
   "id": "22b4f831",
   "metadata": {},
   "outputs": [
    {
     "data": {
      "image/png": "[encoded data removed]",
      "text/plain": [
       "<Figure size 432x288 with 1 Axes>"
      ]
     },
     "metadata": {
      "needs_background": "light"
     },
     "output_type": "display_data"
    }
   ],
   "source": [
    "from matplotlib.colors import ListedColormap\n",
    "\n",
    "x_set, y_set = x_test, y_test\n",
    "X1, X2 = np.meshgrid(np.arange(start=-4, stop=4.01, step=0.1),\n",
    "                     np.arange(start=-4, stop=4.01, step=0.1))\n",
    "\n",
    "Z = lr.predict(np.array([X1.ravel(), X2.ravel()]).T)\n",
    "Z = Z.reshape(X1.shape)\n",
    "\n",
    "plt.contourf(X1, X2, Z, alpha=0.75, cmap=ListedColormap(('green', 'blue', 'red')))\n",
    "plt.xlim(X1.min(), X1.max())\n",
    "plt.ylim(X2.min(), X2.max())\n",
    "\n",
    "for i, j in enumerate(np.unique(y_set)):\n",
    "    plt.scatter(x_set[y_set == j, 0], x_set[y_set == j, 1],\n",
    "                color=ListedColormap(('salmon', 'dodgerblue', 'green'))(i), label=j, edgecolors='black', linewidth=0.7)\n",
    "\n",
    "plt.title('PCA (Test set)')\n",
    "plt.xlabel('Age')\n",
    "plt.ylabel('Estimated Salary')\n",
    "plt.legend()\n",
    "plt.show()\n"
   ]
  },
  {
   "cell_type": "code",
   "execution_count": null,
   "id": "552e8a64",
   "metadata": {},
   "outputs": [],
   "source": []
  }
 ],
 "metadata": {
  "kernelspec": {
   "display_name": "Python 3 (ipykernel)",
   "language": "python",
   "name": "python3"
  },
  "language_info": {
   "codemirror_mode": {
    "name": "ipython",
    "version": 3
   },
   "file_extension": ".py",
   "mimetype": "text/x-python",
   "name": "python",
   "nbconvert_exporter": "python",
   "pygments_lexer": "ipython3",
   "version": "3.9.12"
  }
 },
 "nbformat": 4,
 "nbformat_minor": 5
}
