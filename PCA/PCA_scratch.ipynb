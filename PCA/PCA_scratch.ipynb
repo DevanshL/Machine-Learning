{
 "cells": [
  {
   "cell_type": "code",
   "execution_count": 36,
   "id": "68165656",
   "metadata": {},
   "outputs": [],
   "source": [
    "import numpy as np\n",
    "import pandas as pd\n",
    "import matplotlib.pyplot as plt"
   ]
  },
  {
   "cell_type": "code",
   "execution_count": 37,
   "id": "f7e0eff1",
   "metadata": {},
   "outputs": [
    {
     "data": {
      "text/html": [
       "<div>\n",
       "<style scoped>\n",
       "    .dataframe tbody tr th:only-of-type {\n",
       "        vertical-align: middle;\n",
       "    }\n",
       "\n",
       "    .dataframe tbody tr th {\n",
       "        vertical-align: top;\n",
       "    }\n",
       "\n",
       "    .dataframe thead th {\n",
       "        text-align: right;\n",
       "    }\n",
       "</style>\n",
       "<table border=\"1\" class=\"dataframe\">\n",
       "  <thead>\n",
       "    <tr style=\"text-align: right;\">\n",
       "      <th></th>\n",
       "      <th>Alcohol</th>\n",
       "      <th>Malic_Acid</th>\n",
       "      <th>Ash</th>\n",
       "      <th>Ash_Alcanity</th>\n",
       "      <th>Magnesium</th>\n",
       "      <th>Total_Phenols</th>\n",
       "      <th>Flavanoids</th>\n",
       "      <th>Nonflavanoid_Phenols</th>\n",
       "      <th>Proanthocyanins</th>\n",
       "      <th>Color_Intensity</th>\n",
       "      <th>Hue</th>\n",
       "      <th>OD280</th>\n",
       "      <th>Proline</th>\n",
       "      <th>Customer_Segment</th>\n",
       "    </tr>\n",
       "  </thead>\n",
       "  <tbody>\n",
       "    <tr>\n",
       "      <th>0</th>\n",
       "      <td>14.23</td>\n",
       "      <td>1.71</td>\n",
       "      <td>2.43</td>\n",
       "      <td>15.6</td>\n",
       "      <td>127</td>\n",
       "      <td>2.80</td>\n",
       "      <td>3.06</td>\n",
       "      <td>0.28</td>\n",
       "      <td>2.29</td>\n",
       "      <td>5.64</td>\n",
       "      <td>1.04</td>\n",
       "      <td>3.92</td>\n",
       "      <td>1065</td>\n",
       "      <td>1</td>\n",
       "    </tr>\n",
       "    <tr>\n",
       "      <th>1</th>\n",
       "      <td>13.20</td>\n",
       "      <td>1.78</td>\n",
       "      <td>2.14</td>\n",
       "      <td>11.2</td>\n",
       "      <td>100</td>\n",
       "      <td>2.65</td>\n",
       "      <td>2.76</td>\n",
       "      <td>0.26</td>\n",
       "      <td>1.28</td>\n",
       "      <td>4.38</td>\n",
       "      <td>1.05</td>\n",
       "      <td>3.40</td>\n",
       "      <td>1050</td>\n",
       "      <td>1</td>\n",
       "    </tr>\n",
       "    <tr>\n",
       "      <th>2</th>\n",
       "      <td>13.16</td>\n",
       "      <td>2.36</td>\n",
       "      <td>2.67</td>\n",
       "      <td>18.6</td>\n",
       "      <td>101</td>\n",
       "      <td>2.80</td>\n",
       "      <td>3.24</td>\n",
       "      <td>0.30</td>\n",
       "      <td>2.81</td>\n",
       "      <td>5.68</td>\n",
       "      <td>1.03</td>\n",
       "      <td>3.17</td>\n",
       "      <td>1185</td>\n",
       "      <td>1</td>\n",
       "    </tr>\n",
       "    <tr>\n",
       "      <th>3</th>\n",
       "      <td>14.37</td>\n",
       "      <td>1.95</td>\n",
       "      <td>2.50</td>\n",
       "      <td>16.8</td>\n",
       "      <td>113</td>\n",
       "      <td>3.85</td>\n",
       "      <td>3.49</td>\n",
       "      <td>0.24</td>\n",
       "      <td>2.18</td>\n",
       "      <td>7.80</td>\n",
       "      <td>0.86</td>\n",
       "      <td>3.45</td>\n",
       "      <td>1480</td>\n",
       "      <td>1</td>\n",
       "    </tr>\n",
       "    <tr>\n",
       "      <th>4</th>\n",
       "      <td>13.24</td>\n",
       "      <td>2.59</td>\n",
       "      <td>2.87</td>\n",
       "      <td>21.0</td>\n",
       "      <td>118</td>\n",
       "      <td>2.80</td>\n",
       "      <td>2.69</td>\n",
       "      <td>0.39</td>\n",
       "      <td>1.82</td>\n",
       "      <td>4.32</td>\n",
       "      <td>1.04</td>\n",
       "      <td>2.93</td>\n",
       "      <td>735</td>\n",
       "      <td>1</td>\n",
       "    </tr>\n",
       "  </tbody>\n",
       "</table>\n",
       "</div>"
      ],
      "text/plain": [
       "   Alcohol  Malic_Acid   Ash  Ash_Alcanity  Magnesium  Total_Phenols  \\\n",
       "0    14.23        1.71  2.43          15.6        127           2.80   \n",
       "1    13.20        1.78  2.14          11.2        100           2.65   \n",
       "2    13.16        2.36  2.67          18.6        101           2.80   \n",
       "3    14.37        1.95  2.50          16.8        113           3.85   \n",
       "4    13.24        2.59  2.87          21.0        118           2.80   \n",
       "\n",
       "   Flavanoids  Nonflavanoid_Phenols  Proanthocyanins  Color_Intensity   Hue  \\\n",
       "0        3.06                  0.28             2.29             5.64  1.04   \n",
       "1        2.76                  0.26             1.28             4.38  1.05   \n",
       "2        3.24                  0.30             2.81             5.68  1.03   \n",
       "3        3.49                  0.24             2.18             7.80  0.86   \n",
       "4        2.69                  0.39             1.82             4.32  1.04   \n",
       "\n",
       "   OD280  Proline  Customer_Segment  \n",
       "0   3.92     1065                 1  \n",
       "1   3.40     1050                 1  \n",
       "2   3.17     1185                 1  \n",
       "3   3.45     1480                 1  \n",
       "4   2.93      735                 1  "
      ]
     },
     "execution_count": 37,
     "metadata": {},
     "output_type": "execute_result"
    }
   ],
   "source": [
    "df = pd.read_csv('Wine.csv')\n",
    "df.head()"
   ]
  },
  {
   "cell_type": "code",
   "execution_count": 38,
   "id": "762d7127",
   "metadata": {},
   "outputs": [],
   "source": [
    "# x = df.iloc[:,:-1].values\n",
    "# y = df.iloc[:,-1].values"
   ]
  },
  {
   "cell_type": "code",
   "execution_count": 39,
   "id": "74bc0ef0",
   "metadata": {},
   "outputs": [],
   "source": [
    "# np.random.seed(42)\n",
    "# data = np.column_stack((x, y.reshape(-1, 1)))\n",
    "# np.random.shuffle(data)\n",
    "\n",
    "# test_size = 0.2\n",
    "# num_test_samples = int(len(data) * test_size)\n",
    "# train_data, test_data = data[num_test_samples:], data[:num_test_samples]\n",
    "\n",
    "\n",
    "# x_train, y_train = train_data[:, :-1], train_data[:, -1]\n",
    "# x_test, y_test = test_data[:, :-1], test_data[:, -1]\n",
    "\n",
    "# from sklearn.model_selection import train_test_split\n",
    "\n",
    "# x_train,x_test,y_train,y_test = train_test_split(x,y,test_size=0.2,random_state=42)\n",
    "def split_train_test(df, y_col):\n",
    "    train_data, test_data = pd.DataFrame(), pd.DataFrame()\n",
    "    for y in df[y_col].unique():\n",
    "        df_y = df[df[y_col] == y]\n",
    "        test_data = pd.concat([test_data, df_y[:10]], ignore_index=True)\n",
    "        train_data = pd.concat([train_data, df_y[10:]], ignore_index=True)\n",
    "    x_train, y_train = train_data.drop(y_col, axis=1), train_data[y_col]\n",
    "    x_test, y_test = test_data.drop(y_col, axis=1), test_data[y_col]\n",
    "    return x_train, y_train, x_test, y_test"
   ]
  },
  {
   "cell_type": "code",
   "execution_count": 40,
   "id": "3ac0b438",
   "metadata": {},
   "outputs": [
    {
     "name": "stdout",
     "output_type": "stream",
     "text": [
      "X_train: 148\n",
      "X_test: 30\n"
     ]
    }
   ],
   "source": [
    "x_train, y_train, x_test, y_test = split_train_test(df,\"Customer_Segment\")\n",
    "print(f\"X_train: {len(x_train)}\")\n",
    "print(f\"X_test: {len(x_test)}\")"
   ]
  },
  {
   "cell_type": "markdown",
   "id": "d9262f6e",
   "metadata": {},
   "source": [
    "### Feature scaling"
   ]
  },
  {
   "cell_type": "code",
   "execution_count": 41,
   "id": "d5f9f1e0",
   "metadata": {},
   "outputs": [],
   "source": [
    "# TRAIN SET\n",
    "mean1 = np.mean(x_train,axis=0)\n",
    "std1 = np.std(x_train,axis=0)\n",
    "\n",
    "sc_x_train = (x_train-mean1)/std1\n",
    "\n",
    "# TEST SET\n",
    "mean2 = np.mean(x_test,axis=0)\n",
    "std2 = np.std(x_test,axis=0)\n",
    "\n",
    "sc_x_test = (x_test-mean2)/std2\n",
    "\n",
    "# from sklearn.preprocessing import StandardScaler\n",
    "# sc = StandardScaler()\n",
    "# x_train = sc.fit_transform(x_train)\n",
    "# x_test = sc.fit_transform(x_test)\n"
   ]
  },
  {
   "cell_type": "markdown",
   "id": "03f83fed",
   "metadata": {},
   "source": [
    "## PRINCIPAL COMPONENT ANALYSIS (PCA)"
   ]
  },
  {
   "cell_type": "code",
   "execution_count": 42,
   "id": "464cd34c",
   "metadata": {},
   "outputs": [],
   "source": [
    "class PCA:\n",
    "    def __init__(self, explained_var_threshold=0.95):\n",
    "        self.explained_var_threshold = explained_var_threshold\n",
    "        self.principal_components = None\n",
    "        self.individual_explained_variance = None\n",
    "        self.explained_var_ratio = None\n",
    "        self.cumulative_exp_var_ratio = None\n",
    "        self.optimal_components = None\n",
    "        \n",
    "    def fit(self, data):\n",
    "        # step1 covariance matrix\n",
    "        covariance_mat = np.cov(data, rowvar=False)\n",
    "        \n",
    "        # step2 Eigenvalues and eigenvectors\n",
    "        eigen_val, eigen_vec = np.linalg.eig(covariance_mat)\n",
    "        \n",
    "        # step3 Sort eigenvalues and eigenvectors\n",
    "        sort_indices = eigen_val.argsort()[::-1]\n",
    "        eigen_val = eigen_val[sort_indices]\n",
    "        eigen_vec = eigen_vec[:, sort_indices]\n",
    "        \n",
    "        # step4 Explained variance\n",
    "        self.individual_explained_variance = eigen_val\n",
    "        self.explained_var_ratio = eigen_val / eigen_val.sum()\n",
    "        self.cumulative_exp_var_ratio = np.cumsum(self.explained_var_ratio)\n",
    "        \n",
    "        # step5 Number of Components\n",
    "        self.optimal_components = np.argmax(self.cumulative_exp_var_ratio >= self.explained_var_threshold) + 1\n",
    "        \n",
    "        # step6 Principal components\n",
    "        self.principal_components = eigen_vec[:, :self.optimal_components]\n",
    "        \n",
    "    def transform(self, data):\n",
    "    # step7 Transform Data\n",
    "        transformed_data = np.dot(data, self.principal_components)\n",
    "        return transformed_data"
   ]
  },
  {
   "cell_type": "code",
   "execution_count": 43,
   "id": "35e6f2b1",
   "metadata": {},
   "outputs": [],
   "source": [
    "def accuracy(y_pred, y_test):\n",
    "    return np.sum(y_pred == y_test) / len(y_test)"
   ]
  },
  {
   "cell_type": "code",
   "execution_count": 44,
   "id": "31e94fae",
   "metadata": {},
   "outputs": [
    {
     "data": {
      "text/plain": [
       "((148, 1), (148,))"
      ]
     },
     "execution_count": 44,
     "metadata": {},
     "output_type": "execute_result"
    }
   ],
   "source": [
    "x_train_pca.shape,y_train.shape"
   ]
  },
  {
   "cell_type": "code",
   "execution_count": 45,
   "id": "9e50e09e",
   "metadata": {},
   "outputs": [
    {
     "data": {
      "text/plain": [
       "LogisticRegression(random_state=42)"
      ]
     },
     "execution_count": 45,
     "metadata": {},
     "output_type": "execute_result"
    }
   ],
   "source": [
    "from sklearn.linear_model import LogisticRegression\n",
    "\n",
    "lr = LogisticRegression(random_state=42)\n",
    "lr.fit(x_train_pca,y_train)"
   ]
  },
  {
   "cell_type": "code",
   "execution_count": 46,
   "id": "37cc5db8",
   "metadata": {},
   "outputs": [
    {
     "name": "stdout",
     "output_type": "stream",
     "text": [
      "[[9 0 1]\n",
      " [0 7 3]\n",
      " [0 8 2]]\n"
     ]
    },
    {
     "data": {
      "text/plain": [
       "0.6"
      ]
     },
     "execution_count": 46,
     "metadata": {},
     "output_type": "execute_result"
    }
   ],
   "source": [
    "from sklearn.metrics import confusion_matrix\n",
    "y_pred = lr.predict(x_test_pca)\n",
    "cm = confusion_matrix(y_test,y_pred)\n",
    "print(cm)\n",
    "accuracy(y_test,y_pred)"
   ]
  },
  {
   "cell_type": "markdown",
   "id": "45a4e97b",
   "metadata": {},
   "source": [
    "### Training set "
   ]
  },
  {
   "cell_type": "code",
   "execution_count": 47,
   "id": "aca51b2f",
   "metadata": {},
   "outputs": [
    {
     "data": {
      "image/png": "[encoded data removed]",
      "text/plain": [
       "<Figure size 1080x360 with 3 Axes>"
      ]
     },
     "metadata": {
      "needs_background": "light"
     },
     "output_type": "display_data"
    }
   ],
   "source": [
    "import matplotlib.pyplot as plt\n",
    "import numpy as np\n",
    "\n",
    "custom_pca = PCA(explained_var_threshold=0.95)\n",
    "\n",
    "custom_pca.fit(x_train)\n",
    "\n",
    "x_train_transformed = custom_pca.transform(x_train)\n",
    "\n",
    "plt.figure(figsize=(15, 5))\n",
    "\n",
    "plt.subplot(1, 3, 1)\n",
    "plt.bar(range(1, len(custom_pca.explained_var_ratio) + 1), custom_pca.explained_var_ratio, alpha=0.8)\n",
    "plt.title('Explained Variance per PC')\n",
    "plt.xlabel('Principal Components')\n",
    "plt.ylabel('Explained Variance')\n",
    "\n",
    "plt.subplot(1, 3, 2)\n",
    "plt.plot(range(1, len(custom_pca.cumulative_exp_var_ratio) + 1), custom_pca.cumulative_exp_var_ratio, marker='o', linestyle='--', color='r')\n",
    "plt.title('Cumulative Explained Variance')\n",
    "plt.xlabel('Number of Principal Components')\n",
    "plt.ylabel('Cumulative Explained Variance')\n",
    "\n",
    "plt.subplot(1, 3, 3)\n",
    "plt.scatter(x_train_transformed[:, 0], np.zeros_like(x_train_transformed[:, 0]), alpha=0.5)\n",
    "plt.title('Scatter Plot of Transformed Data')\n",
    "plt.xlabel('Principal Component 1')\n",
    "\n",
    "plt.tight_layout()\n",
    "plt.show()\n"
   ]
  },
  {
   "cell_type": "markdown",
   "id": "f9aa88f7",
   "metadata": {},
   "source": [
    "### Test set"
   ]
  },
  {
   "cell_type": "code",
   "execution_count": 48,
   "id": "7b0ace17",
   "metadata": {},
   "outputs": [
    {
     "data": {
      "image/png": "[encoded data removed]",
      "text/plain": [
       "<Figure size 1080x360 with 3 Axes>"
      ]
     },
     "metadata": {
      "needs_background": "light"
     },
     "output_type": "display_data"
    }
   ],
   "source": [
    "import matplotlib.pyplot as plt\n",
    "import numpy as np\n",
    "\n",
    "# Assuming x_test is your test dataset\n",
    "\n",
    "# Transform the test data using the optimal number of components\n",
    "x_test_transformed = custom_pca.transform(x_test)\n",
    "\n",
    "# Plot explained variance\n",
    "plt.figure(figsize=(15, 5))\n",
    "\n",
    "# Plot explained variance\n",
    "plt.subplot(1, 3, 1)\n",
    "plt.bar(range(1, len(custom_pca.explained_var_ratio) + 1), custom_pca.explained_var_ratio, alpha=0.8)\n",
    "plt.title('Explained Variance per PC')\n",
    "plt.xlabel('Principal Components')\n",
    "plt.ylabel('Explained Variance')\n",
    "\n",
    "# Plot cumulative explained variance\n",
    "plt.subplot(1, 3, 2)\n",
    "plt.plot(range(1, len(custom_pca.cumulative_exp_var_ratio) + 1), custom_pca.cumulative_exp_var_ratio, marker='o', linestyle='--', color='r')\n",
    "plt.title('Cumulative Explained Variance')\n",
    "plt.xlabel('Number of Principal Components')\n",
    "plt.ylabel('Cumulative Explained Variance')\n",
    "\n",
    "# Scatter plot of transformed data (in 1D)\n",
    "plt.subplot(1, 3, 3)\n",
    "plt.scatter(x_test_transformed[:, 0], np.zeros_like(x_test_transformed[:, 0]), alpha=0.5)\n",
    "plt.title('Scatter Plot of Transformed Data (Test Set)')\n",
    "plt.xlabel('Principal Component 1')\n",
    "\n",
    "plt.tight_layout()\n",
    "plt.show()\n"
   ]
  },
  {
   "cell_type": "code",
   "execution_count": null,
   "id": "46afcfe7",
   "metadata": {},
   "outputs": [],
   "source": []
  }
 ],
 "metadata": {
  "kernelspec": {
   "display_name": "Python 3 (ipykernel)",
   "language": "python",
   "name": "python3"
  },
  "language_info": {
   "codemirror_mode": {
    "name": "ipython",
    "version": 3
   },
   "file_extension": ".py",
   "mimetype": "text/x-python",
   "name": "python",
   "nbconvert_exporter": "python",
   "pygments_lexer": "ipython3",
   "version": "3.9.12"
  }
 },
 "nbformat": 4,
 "nbformat_minor": 5
}
