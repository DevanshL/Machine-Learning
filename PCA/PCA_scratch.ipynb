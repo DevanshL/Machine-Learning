{
 "cells": [
  {
   "cell_type": "code",
   "execution_count": 40,
   "id": "68165656",
   "metadata": {},
   "outputs": [],
   "source": [
    "import numpy as np\n",
    "import pandas as pd\n",
    "import matplotlib.pyplot as plt"
   ]
  },
  {
   "cell_type": "code",
   "execution_count": 41,
   "id": "f7e0eff1",
   "metadata": {},
   "outputs": [
    {
     "data": {
      "text/html": [
       "<div>\n",
       "<style scoped>\n",
       "    .dataframe tbody tr th:only-of-type {\n",
       "        vertical-align: middle;\n",
       "    }\n",
       "\n",
       "    .dataframe tbody tr th {\n",
       "        vertical-align: top;\n",
       "    }\n",
       "\n",
       "    .dataframe thead th {\n",
       "        text-align: right;\n",
       "    }\n",
       "</style>\n",
       "<table border=\"1\" class=\"dataframe\">\n",
       "  <thead>\n",
       "    <tr style=\"text-align: right;\">\n",
       "      <th></th>\n",
       "      <th>Alcohol</th>\n",
       "      <th>Malic_Acid</th>\n",
       "      <th>Ash</th>\n",
       "      <th>Ash_Alcanity</th>\n",
       "      <th>Magnesium</th>\n",
       "      <th>Total_Phenols</th>\n",
       "      <th>Flavanoids</th>\n",
       "      <th>Nonflavanoid_Phenols</th>\n",
       "      <th>Proanthocyanins</th>\n",
       "      <th>Color_Intensity</th>\n",
       "      <th>Hue</th>\n",
       "      <th>OD280</th>\n",
       "      <th>Proline</th>\n",
       "      <th>Customer_Segment</th>\n",
       "    </tr>\n",
       "  </thead>\n",
       "  <tbody>\n",
       "    <tr>\n",
       "      <th>0</th>\n",
       "      <td>14.23</td>\n",
       "      <td>1.71</td>\n",
       "      <td>2.43</td>\n",
       "      <td>15.6</td>\n",
       "      <td>127</td>\n",
       "      <td>2.80</td>\n",
       "      <td>3.06</td>\n",
       "      <td>0.28</td>\n",
       "      <td>2.29</td>\n",
       "      <td>5.64</td>\n",
       "      <td>1.04</td>\n",
       "      <td>3.92</td>\n",
       "      <td>1065</td>\n",
       "      <td>1</td>\n",
       "    </tr>\n",
       "    <tr>\n",
       "      <th>1</th>\n",
       "      <td>13.20</td>\n",
       "      <td>1.78</td>\n",
       "      <td>2.14</td>\n",
       "      <td>11.2</td>\n",
       "      <td>100</td>\n",
       "      <td>2.65</td>\n",
       "      <td>2.76</td>\n",
       "      <td>0.26</td>\n",
       "      <td>1.28</td>\n",
       "      <td>4.38</td>\n",
       "      <td>1.05</td>\n",
       "      <td>3.40</td>\n",
       "      <td>1050</td>\n",
       "      <td>1</td>\n",
       "    </tr>\n",
       "    <tr>\n",
       "      <th>2</th>\n",
       "      <td>13.16</td>\n",
       "      <td>2.36</td>\n",
       "      <td>2.67</td>\n",
       "      <td>18.6</td>\n",
       "      <td>101</td>\n",
       "      <td>2.80</td>\n",
       "      <td>3.24</td>\n",
       "      <td>0.30</td>\n",
       "      <td>2.81</td>\n",
       "      <td>5.68</td>\n",
       "      <td>1.03</td>\n",
       "      <td>3.17</td>\n",
       "      <td>1185</td>\n",
       "      <td>1</td>\n",
       "    </tr>\n",
       "    <tr>\n",
       "      <th>3</th>\n",
       "      <td>14.37</td>\n",
       "      <td>1.95</td>\n",
       "      <td>2.50</td>\n",
       "      <td>16.8</td>\n",
       "      <td>113</td>\n",
       "      <td>3.85</td>\n",
       "      <td>3.49</td>\n",
       "      <td>0.24</td>\n",
       "      <td>2.18</td>\n",
       "      <td>7.80</td>\n",
       "      <td>0.86</td>\n",
       "      <td>3.45</td>\n",
       "      <td>1480</td>\n",
       "      <td>1</td>\n",
       "    </tr>\n",
       "    <tr>\n",
       "      <th>4</th>\n",
       "      <td>13.24</td>\n",
       "      <td>2.59</td>\n",
       "      <td>2.87</td>\n",
       "      <td>21.0</td>\n",
       "      <td>118</td>\n",
       "      <td>2.80</td>\n",
       "      <td>2.69</td>\n",
       "      <td>0.39</td>\n",
       "      <td>1.82</td>\n",
       "      <td>4.32</td>\n",
       "      <td>1.04</td>\n",
       "      <td>2.93</td>\n",
       "      <td>735</td>\n",
       "      <td>1</td>\n",
       "    </tr>\n",
       "  </tbody>\n",
       "</table>\n",
       "</div>"
      ],
      "text/plain": [
       "   Alcohol  Malic_Acid   Ash  Ash_Alcanity  Magnesium  Total_Phenols  \\\n",
       "0    14.23        1.71  2.43          15.6        127           2.80   \n",
       "1    13.20        1.78  2.14          11.2        100           2.65   \n",
       "2    13.16        2.36  2.67          18.6        101           2.80   \n",
       "3    14.37        1.95  2.50          16.8        113           3.85   \n",
       "4    13.24        2.59  2.87          21.0        118           2.80   \n",
       "\n",
       "   Flavanoids  Nonflavanoid_Phenols  Proanthocyanins  Color_Intensity   Hue  \\\n",
       "0        3.06                  0.28             2.29             5.64  1.04   \n",
       "1        2.76                  0.26             1.28             4.38  1.05   \n",
       "2        3.24                  0.30             2.81             5.68  1.03   \n",
       "3        3.49                  0.24             2.18             7.80  0.86   \n",
       "4        2.69                  0.39             1.82             4.32  1.04   \n",
       "\n",
       "   OD280  Proline  Customer_Segment  \n",
       "0   3.92     1065                 1  \n",
       "1   3.40     1050                 1  \n",
       "2   3.17     1185                 1  \n",
       "3   3.45     1480                 1  \n",
       "4   2.93      735                 1  "
      ]
     },
     "execution_count": 41,
     "metadata": {},
     "output_type": "execute_result"
    }
   ],
   "source": [
    "df = pd.read_csv('Wine.csv')\n",
    "df.head()"
   ]
  },
  {
   "cell_type": "code",
   "execution_count": 42,
   "id": "762d7127",
   "metadata": {},
   "outputs": [],
   "source": [
    "x = df.iloc[:,:-1].values\n",
    "y = df.iloc[:,-1].values"
   ]
  },
  {
   "cell_type": "code",
   "execution_count": 43,
   "id": "74bc0ef0",
   "metadata": {},
   "outputs": [
    {
     "name": "stdout",
     "output_type": "stream",
     "text": [
      "x_train shape: (142, 13)\n",
      "y_train shape: (142,)\n",
      "x_test shape: (36, 13)\n",
      "y_test shape: (36,)\n"
     ]
    }
   ],
   "source": [
    "np.random.seed(42)\n",
    "\n",
    "# Get the number of samples\n",
    "num_samples = len(x)\n",
    "\n",
    "# Shuffle indices\n",
    "indices = np.arange(num_samples)\n",
    "np.random.shuffle(indices)\n",
    "\n",
    "# Calculate the index to split the data into training and testing sets\n",
    "split_index = int(0.8 * num_samples)\n",
    "\n",
    "# Split the data\n",
    "x_train, x_test = x[indices[:split_index]], x[indices[split_index:]]\n",
    "y_train, y_test = y[indices[:split_index]], y[indices[split_index:]]\n",
    "\n",
    "# Checking the shapes of the training and testing sets\n",
    "print(\"x_train shape:\", x_train.shape)\n",
    "print(\"y_train shape:\", y_train.shape)\n",
    "print(\"x_test shape:\", x_test.shape)\n",
    "print(\"y_test shape:\", y_test.shape)"
   ]
  },
  {
   "cell_type": "code",
   "execution_count": 44,
   "id": "3ac0b438",
   "metadata": {},
   "outputs": [
    {
     "name": "stdout",
     "output_type": "stream",
     "text": [
      "x_train_standardized shape: (142, 13)\n",
      "x_test_standardized shape: (36, 13)\n"
     ]
    }
   ],
   "source": [
    "mean_values = np.mean(x_train, axis=0)\n",
    "std_dev_values = np.std(x_train, axis=0)\n",
    "x_train_standardized = (x_train - mean_values) / std_dev_values\n",
    "x_test_standardized = (x_test - mean_values) / std_dev_values\n",
    "print(\"x_train_standardized shape:\", x_train_standardized.shape)\n",
    "print(\"x_test_standardized shape:\", x_test_standardized.shape)\n"
   ]
  },
  {
   "cell_type": "markdown",
   "id": "03f83fed",
   "metadata": {},
   "source": [
    "## PRINCIPAL COMPONENT ANALYSIS (PCA)"
   ]
  },
  {
   "cell_type": "code",
   "execution_count": 61,
   "id": "464cd34c",
   "metadata": {},
   "outputs": [],
   "source": [
    "class CustomPCA:\n",
    "    def __init__(self, n_components=None):\n",
    "        self.n_components = n_components\n",
    "        self.selected_components = None\n",
    "\n",
    "    def fit(self, X):\n",
    "        # Step 1: Compute the covariance matrix\n",
    "        covariance_mat = np.cov(X, rowvar=False)\n",
    "\n",
    "        # Step 2: Compute eigenvalues and eigenvectors\n",
    "        eigen_val, eigen_vec = np.linalg.eig(covariance_mat)\n",
    "\n",
    "        # Step 3: Sort eigenvalues and eigenvectors\n",
    "        sort_indices = eigen_val.argsort()[::-1]\n",
    "        eigen_val = eigen_val[sort_indices]\n",
    "        eigen_vec = eigen_vec[:, sort_indices]\n",
    "\n",
    "        # Step 4: Choose the top k eigenvectors\n",
    "        if self.n_components is not None:\n",
    "            self.selected_components = eigen_vec[:, :self.n_components]\n",
    "        else:\n",
    "            self.selected_components = eigen_vec\n",
    "\n",
    "    def transform(self, X):\n",
    "        if self.selected_components is None:\n",
    "            raise ValueError(\"Fit the model before transforming the data.\")\n",
    "        return X.dot(self.selected_components)\n",
    "\n",
    "    def fit_transform(self, X):\n",
    "        self.fit(X)\n",
    "        return self.transform(X)\n"
   ]
  },
  {
   "cell_type": "code",
   "execution_count": 62,
   "id": "35e6f2b1",
   "metadata": {},
   "outputs": [],
   "source": [
    "def accuracy(y_pred, y_test):\n",
    "    return np.sum(y_pred == y_test) / len(y_test)"
   ]
  },
  {
   "cell_type": "code",
   "execution_count": 67,
   "id": "b8557d8c",
   "metadata": {},
   "outputs": [
    {
     "name": "stdout",
     "output_type": "stream",
     "text": [
      "Shape of x_train_pca: (142, 2)\n"
     ]
    }
   ],
   "source": [
    "pca = CustomPCA(n_components=2)\n",
    "x_train_pca = pca.fit_transform(x_train_standardized)\n",
    "x_test_pca = pca.transform(x_test_standardized)\n",
    "print(\"Shape of x_train_pca:\", x_train_pca.shape)"
   ]
  },
  {
   "cell_type": "code",
   "execution_count": 68,
   "id": "958c5c41",
   "metadata": {},
   "outputs": [
    {
     "data": {
      "text/plain": [
       "((36, 2), (142, 2))"
      ]
     },
     "execution_count": 68,
     "metadata": {},
     "output_type": "execute_result"
    }
   ],
   "source": [
    "x_test_pca.shape,x_train_pca.shape"
   ]
  },
  {
   "cell_type": "code",
   "execution_count": 69,
   "id": "9e50e09e",
   "metadata": {},
   "outputs": [
    {
     "data": {
      "text/plain": [
       "LogisticRegression(random_state=42)"
      ]
     },
     "execution_count": 69,
     "metadata": {},
     "output_type": "execute_result"
    }
   ],
   "source": [
    "from sklearn.linear_model import LogisticRegression\n",
    "\n",
    "lr = LogisticRegression(random_state=42)\n",
    "lr.fit(x_train_pca,y_train)"
   ]
  },
  {
   "cell_type": "code",
   "execution_count": 70,
   "id": "4d1cc912",
   "metadata": {},
   "outputs": [
    {
     "name": "stdout",
     "output_type": "stream",
     "text": [
      "Number of features after LDA: 2\n"
     ]
    }
   ],
   "source": [
    "print(\"Number of features after LDA:\", x_test_pca.shape[1])"
   ]
  },
  {
   "cell_type": "code",
   "execution_count": 71,
   "id": "37cc5db8",
   "metadata": {},
   "outputs": [
    {
     "name": "stdout",
     "output_type": "stream",
     "text": [
      "[[11  0  0]\n",
      " [ 1 13  0]\n",
      " [ 0  2  9]]\n"
     ]
    },
    {
     "data": {
      "text/plain": [
       "0.9166666666666666"
      ]
     },
     "execution_count": 71,
     "metadata": {},
     "output_type": "execute_result"
    }
   ],
   "source": [
    "from sklearn.metrics import confusion_matrix\n",
    "y_pred = lr.predict(x_test_pca)\n",
    "cm = confusion_matrix(y_test,y_pred)\n",
    "print(cm)\n",
    "accuracy(y_test,y_pred)"
   ]
  },
  {
   "cell_type": "markdown",
   "id": "45a4e97b",
   "metadata": {},
   "source": [
    "### Training set "
   ]
  },
  {
   "cell_type": "code",
   "execution_count": null,
   "id": "aca51b2f",
   "metadata": {},
   "outputs": [],
   "source": [
    "from matplotlib.colors import ListedColormap\n",
    "\n",
    "x_set, y_set = x_train_pca, y_train\n",
    "X1, X2 = np.meshgrid(np.arange(start=-4, stop=4.01, step=0.1),\n",
    "                     np.arange(start=-4, stop=4.01, step=0.1))\n",
    "\n",
    "Z = lr.predict(np.array([X1.ravel(), X2.ravel()]).T)\n",
    "Z = Z.reshape(X1.shape)\n",
    "\n",
    "plt.contourf(X1, X2, Z, alpha=0.75, cmap=ListedColormap(('green', 'blue', 'red')))\n",
    "plt.xlim(X1.min(), X1.max())\n",
    "plt.ylim(X2.min(), X2.max())\n",
    "\n",
    "for i, j in enumerate(np.unique(y_set)):\n",
    "    plt.scatter(x_set[y_set == j, 0], x_set[y_set == j, 1],\n",
    "                color=ListedColormap(('salmon', 'dodgerblue', 'green'))(i), label=j, edgecolors='black', linewidth=0.7)\n",
    "\n",
    "plt.title('PCA (Training set)')\n",
    "plt.xlabel('Age')\n",
    "plt.ylabel('Estimated Salary')\n",
    "plt.legend()\n",
    "plt.show()"
   ]
  },
  {
   "cell_type": "markdown",
   "id": "f9aa88f7",
   "metadata": {},
   "source": [
    "### Test set"
   ]
  },
  {
   "cell_type": "code",
   "execution_count": 74,
   "id": "7b0ace17",
   "metadata": {},
   "outputs": [
    {
     "data": {
      "image/png": "[encoded data removed]",
      "text/plain": [
       "<Figure size 432x288 with 1 Axes>"
      ]
     },
     "metadata": {
      "needs_background": "light"
     },
     "output_type": "display_data"
    }
   ],
   "source": [
    "from matplotlib.colors import ListedColormap\n",
    "\n",
    "x_set, y_set = x_test_pca, y_test\n",
    "X1, X2 = np.meshgrid(np.arange(start=-4, stop=4.01, step=0.1),\n",
    "                     np.arange(start=-4, stop=4.01, step=0.1))\n",
    "\n",
    "Z = lr.predict(np.array([X1.ravel(), X2.ravel()]).T)\n",
    "Z = Z.reshape(X1.shape)\n",
    "\n",
    "plt.contourf(X1, X2, Z, alpha=0.75, cmap=ListedColormap(('green', 'blue', 'red')))\n",
    "plt.xlim(X1.min(), X1.max())\n",
    "plt.ylim(X2.min(), X2.max())\n",
    "\n",
    "for i, j in enumerate(np.unique(y_set)):\n",
    "    plt.scatter(x_set[y_set == j, 0], x_set[y_set == j, 1],\n",
    "                color=ListedColormap(('salmon', 'dodgerblue', 'green'))(i), label=j, edgecolors='black', linewidth=0.7)\n",
    "\n",
    "plt.title('PCA (Test set)')\n",
    "plt.xlabel('Age')\n",
    "plt.ylabel('Estimated Salary')\n",
    "plt.legend()\n",
    "plt.show()"
   ]
  },
  {
   "cell_type": "code",
   "execution_count": null,
   "id": "46afcfe7",
   "metadata": {},
   "outputs": [],
   "source": []
  }
 ],
 "metadata": {
  "kernelspec": {
   "display_name": "Python 3 (ipykernel)",
   "language": "python",
   "name": "python3"
  },
  "language_info": {
   "codemirror_mode": {
    "name": "ipython",
    "version": 3
   },
   "file_extension": ".py",
   "mimetype": "text/x-python",
   "name": "python",
   "nbconvert_exporter": "python",
   "pygments_lexer": "ipython3",
   "version": "3.9.12"
  }
 },
 "nbformat": 4,
 "nbformat_minor": 5
}
